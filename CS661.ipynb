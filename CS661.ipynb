{
 "cells": [
  {
   "cell_type": "code",
   "execution_count": 1,
   "id": "c35845ef",
   "metadata": {},
   "outputs": [],
   "source": [
    "#CS-661 Python Programming Final Project – Fall 2023(CRN-73599)\n",
    "\n",
    "\n",
    "## Team Members:\n",
    "\n",
    "#-Yakshita Rakholiya:-\t\t\t(U01875270)\n",
    "#- Bansariben Sorathiya:-\t\t(U01874134)\n",
    "#- Dhruv Ranparya:-\t\t\t\t(U01880534)\n",
    "#- Somil Saparia:-\t\t\t\t(U01876683)\n",
    "#- Fnu Pariva:-\t\t\t\t\t(U01871870)\n",
    "#- Jinit Desai:-\t\t\t\t(U01850641)\n",
    "#- Kunj Patel:-\t\t\t\t\t(U01869538)\n",
    "\n"
   ]
  },
  {
   "cell_type": "markdown",
   "id": "28a094de",
   "metadata": {},
   "source": [
    "# Project Overview:\n",
    "    NutriGuide is a comprehensive nutrition-based application designed to assist users in making informed dietary choices by providing detailed nutritional information. This application aims to categorize various foods based on their protein content, cholesterol levels, good fats, calorie count, fiber content, vitamins, and more. NutriGuide empowers users to select foods aligned with their specific dietary requirements and health goals.\n"
   ]
  },
  {
   "cell_type": "code",
   "execution_count": 2,
   "id": "abfa64e2",
   "metadata": {},
   "outputs": [],
   "source": [
    "# importing necessary libraries"
   ]
  },
  {
   "cell_type": "code",
   "execution_count": 3,
   "id": "8b34f50a",
   "metadata": {},
   "outputs": [],
   "source": [
    "# os: This module in Python provides a portable way to interact with the operating system. It allows you to perform operating system-dependent functions, such as manipulating paths, directories, and executing system commands.\n",
    "import os"
   ]
  },
  {
   "cell_type": "code",
   "execution_count": 4,
   "id": "64c87037",
   "metadata": {},
   "outputs": [],
   "source": [
    "# pandas as pd: Pandas is a powerful data manipulation library in Python used for data analysis. It provides data structures like DataFrame and Series, along with functions to clean, transform, and analyze data. Renaming pandas as pd is a common convention to simplify code.\n",
    "import pandas as pd"
   ]
  },
  {
   "cell_type": "code",
   "execution_count": 5,
   "id": "80d37d42",
   "metadata": {},
   "outputs": [],
   "source": [
    "# numpy as np: NumPy is a fundamental package for scientific computing in Python. It provides support for multidimensional arrays, mathematical functions, random number generation, linear algebra, and more. It's often used in combination with Pandas for numerical computations.\n",
    "import numpy as np"
   ]
  },
  {
   "cell_type": "code",
   "execution_count": 6,
   "id": "8a72a076",
   "metadata": {},
   "outputs": [],
   "source": [
    "# matplotlib.pyplot as plt: Matplotlib is a plotting library in Python used to create static, interactive, and animated visualizations. pyplot is a module within Matplotlib that provides a MATLAB-like interface for creating plots and visualizations in Python scripts. Renaming matplotlib.pyplot as plt is a common convention to simplify plotting commands.\n",
    "import matplotlib.pyplot as plt"
   ]
  },
  {
   "cell_type": "code",
   "execution_count": 7,
   "id": "406cfbc3",
   "metadata": {},
   "outputs": [],
   "source": [
    "# importing data"
   ]
  },
  {
   "cell_type": "code",
   "execution_count": 8,
   "id": "602b1230",
   "metadata": {},
   "outputs": [],
   "source": [
    "file_path = 'nutrition.csv'"
   ]
  },
  {
   "cell_type": "code",
   "execution_count": 9,
   "id": "9be47498",
   "metadata": {},
   "outputs": [],
   "source": [
    "# Load the data from the CSV file into a DataFrame"
   ]
  },
  {
   "cell_type": "code",
   "execution_count": 10,
   "id": "b0129c18",
   "metadata": {},
   "outputs": [],
   "source": [
    "data = pd.read_csv(file_path)"
   ]
  },
  {
   "cell_type": "code",
   "execution_count": 11,
   "id": "80e57bc2",
   "metadata": {},
   "outputs": [],
   "source": [
    "# Display the first few rows of the dataset to check if it's imported correctly"
   ]
  },
  {
   "cell_type": "code",
   "execution_count": 12,
   "id": "cd8ba6af",
   "metadata": {
    "scrolled": true
   },
   "outputs": [
    {
     "data": {
      "text/html": [
       "<div>\n",
       "<style scoped>\n",
       "    .dataframe tbody tr th:only-of-type {\n",
       "        vertical-align: middle;\n",
       "    }\n",
       "\n",
       "    .dataframe tbody tr th {\n",
       "        vertical-align: top;\n",
       "    }\n",
       "\n",
       "    .dataframe thead th {\n",
       "        text-align: right;\n",
       "    }\n",
       "</style>\n",
       "<table border=\"1\" class=\"dataframe\">\n",
       "  <thead>\n",
       "    <tr style=\"text-align: right;\">\n",
       "      <th></th>\n",
       "      <th>Unnamed: 0</th>\n",
       "      <th>name</th>\n",
       "      <th>serving_size</th>\n",
       "      <th>calories</th>\n",
       "      <th>total_fat</th>\n",
       "      <th>saturated_fat</th>\n",
       "      <th>cholesterol</th>\n",
       "      <th>sodium</th>\n",
       "      <th>choline</th>\n",
       "      <th>folate</th>\n",
       "      <th>...</th>\n",
       "      <th>fat</th>\n",
       "      <th>saturated_fatty_acids</th>\n",
       "      <th>monounsaturated_fatty_acids</th>\n",
       "      <th>polyunsaturated_fatty_acids</th>\n",
       "      <th>fatty_acids_total_trans</th>\n",
       "      <th>alcohol</th>\n",
       "      <th>ash</th>\n",
       "      <th>caffeine</th>\n",
       "      <th>theobromine</th>\n",
       "      <th>water</th>\n",
       "    </tr>\n",
       "  </thead>\n",
       "  <tbody>\n",
       "    <tr>\n",
       "      <th>0</th>\n",
       "      <td>0</td>\n",
       "      <td>Cornstarch</td>\n",
       "      <td>100 g</td>\n",
       "      <td>381</td>\n",
       "      <td>0.1g</td>\n",
       "      <td>NaN</td>\n",
       "      <td>0</td>\n",
       "      <td>9.00 mg</td>\n",
       "      <td>0.4 mg</td>\n",
       "      <td>0.00 mcg</td>\n",
       "      <td>...</td>\n",
       "      <td>0.05 g</td>\n",
       "      <td>0.009 g</td>\n",
       "      <td>0.016 g</td>\n",
       "      <td>0.025 g</td>\n",
       "      <td>0.00 mg</td>\n",
       "      <td>0.0 g</td>\n",
       "      <td>0.09 g</td>\n",
       "      <td>0.00 mg</td>\n",
       "      <td>0.00 mg</td>\n",
       "      <td>8.32 g</td>\n",
       "    </tr>\n",
       "    <tr>\n",
       "      <th>1</th>\n",
       "      <td>1</td>\n",
       "      <td>Nuts, pecans</td>\n",
       "      <td>100 g</td>\n",
       "      <td>691</td>\n",
       "      <td>72g</td>\n",
       "      <td>6.2g</td>\n",
       "      <td>0</td>\n",
       "      <td>0.00 mg</td>\n",
       "      <td>40.5 mg</td>\n",
       "      <td>22.00 mcg</td>\n",
       "      <td>...</td>\n",
       "      <td>71.97 g</td>\n",
       "      <td>6.180 g</td>\n",
       "      <td>40.801 g</td>\n",
       "      <td>21.614 g</td>\n",
       "      <td>0.00 mg</td>\n",
       "      <td>0.0 g</td>\n",
       "      <td>1.49 g</td>\n",
       "      <td>0.00 mg</td>\n",
       "      <td>0.00 mg</td>\n",
       "      <td>3.52 g</td>\n",
       "    </tr>\n",
       "    <tr>\n",
       "      <th>2</th>\n",
       "      <td>2</td>\n",
       "      <td>Eggplant, raw</td>\n",
       "      <td>100 g</td>\n",
       "      <td>25</td>\n",
       "      <td>0.2g</td>\n",
       "      <td>NaN</td>\n",
       "      <td>0</td>\n",
       "      <td>2.00 mg</td>\n",
       "      <td>6.9 mg</td>\n",
       "      <td>22.00 mcg</td>\n",
       "      <td>...</td>\n",
       "      <td>0.18 g</td>\n",
       "      <td>0.034 g</td>\n",
       "      <td>0.016 g</td>\n",
       "      <td>0.076 g</td>\n",
       "      <td>0.00 mg</td>\n",
       "      <td>0.0 g</td>\n",
       "      <td>0.66 g</td>\n",
       "      <td>0.00 mg</td>\n",
       "      <td>0.00 mg</td>\n",
       "      <td>92.30 g</td>\n",
       "    </tr>\n",
       "    <tr>\n",
       "      <th>3</th>\n",
       "      <td>3</td>\n",
       "      <td>Teff, uncooked</td>\n",
       "      <td>100 g</td>\n",
       "      <td>367</td>\n",
       "      <td>2.4g</td>\n",
       "      <td>0.4g</td>\n",
       "      <td>0</td>\n",
       "      <td>12.00 mg</td>\n",
       "      <td>13.1 mg</td>\n",
       "      <td>0</td>\n",
       "      <td>...</td>\n",
       "      <td>2.38 g</td>\n",
       "      <td>0.449 g</td>\n",
       "      <td>0.589 g</td>\n",
       "      <td>1.071 g</td>\n",
       "      <td>0</td>\n",
       "      <td>0</td>\n",
       "      <td>2.37 g</td>\n",
       "      <td>0</td>\n",
       "      <td>0</td>\n",
       "      <td>8.82 g</td>\n",
       "    </tr>\n",
       "    <tr>\n",
       "      <th>4</th>\n",
       "      <td>4</td>\n",
       "      <td>Sherbet, orange</td>\n",
       "      <td>100 g</td>\n",
       "      <td>144</td>\n",
       "      <td>2g</td>\n",
       "      <td>1.2g</td>\n",
       "      <td>1mg</td>\n",
       "      <td>46.00 mg</td>\n",
       "      <td>7.7 mg</td>\n",
       "      <td>4.00 mcg</td>\n",
       "      <td>...</td>\n",
       "      <td>2.00 g</td>\n",
       "      <td>1.160 g</td>\n",
       "      <td>0.530 g</td>\n",
       "      <td>0.080 g</td>\n",
       "      <td>1.00 mg</td>\n",
       "      <td>0.0 g</td>\n",
       "      <td>0.40 g</td>\n",
       "      <td>0.00 mg</td>\n",
       "      <td>0.00 mg</td>\n",
       "      <td>66.10 g</td>\n",
       "    </tr>\n",
       "  </tbody>\n",
       "</table>\n",
       "<p>5 rows × 77 columns</p>\n",
       "</div>"
      ],
      "text/plain": [
       "   Unnamed: 0             name serving_size  calories total_fat saturated_fat  \\\n",
       "0           0       Cornstarch        100 g       381      0.1g           NaN   \n",
       "1           1     Nuts, pecans        100 g       691       72g          6.2g   \n",
       "2           2    Eggplant, raw        100 g        25      0.2g           NaN   \n",
       "3           3   Teff, uncooked        100 g       367      2.4g          0.4g   \n",
       "4           4  Sherbet, orange        100 g       144        2g          1.2g   \n",
       "\n",
       "  cholesterol    sodium  choline     folate  ...      fat  \\\n",
       "0           0   9.00 mg   0.4 mg   0.00 mcg  ...   0.05 g   \n",
       "1           0   0.00 mg  40.5 mg  22.00 mcg  ...  71.97 g   \n",
       "2           0   2.00 mg   6.9 mg  22.00 mcg  ...   0.18 g   \n",
       "3           0  12.00 mg  13.1 mg          0  ...   2.38 g   \n",
       "4         1mg  46.00 mg   7.7 mg   4.00 mcg  ...   2.00 g   \n",
       "\n",
       "  saturated_fatty_acids monounsaturated_fatty_acids  \\\n",
       "0               0.009 g                     0.016 g   \n",
       "1               6.180 g                    40.801 g   \n",
       "2               0.034 g                     0.016 g   \n",
       "3               0.449 g                     0.589 g   \n",
       "4               1.160 g                     0.530 g   \n",
       "\n",
       "  polyunsaturated_fatty_acids fatty_acids_total_trans alcohol     ash  \\\n",
       "0                     0.025 g                 0.00 mg   0.0 g  0.09 g   \n",
       "1                    21.614 g                 0.00 mg   0.0 g  1.49 g   \n",
       "2                     0.076 g                 0.00 mg   0.0 g  0.66 g   \n",
       "3                     1.071 g                       0       0  2.37 g   \n",
       "4                     0.080 g                 1.00 mg   0.0 g  0.40 g   \n",
       "\n",
       "  caffeine theobromine    water  \n",
       "0  0.00 mg     0.00 mg   8.32 g  \n",
       "1  0.00 mg     0.00 mg   3.52 g  \n",
       "2  0.00 mg     0.00 mg  92.30 g  \n",
       "3        0           0   8.82 g  \n",
       "4  0.00 mg     0.00 mg  66.10 g  \n",
       "\n",
       "[5 rows x 77 columns]"
      ]
     },
     "execution_count": 12,
     "metadata": {},
     "output_type": "execute_result"
    }
   ],
   "source": [
    "data.head()"
   ]
  },
  {
   "cell_type": "code",
   "execution_count": 13,
   "id": "8b905989",
   "metadata": {},
   "outputs": [],
   "source": [
    "# Get basic information about the dataset (data types, non-null values, etc.)"
   ]
  },
  {
   "cell_type": "code",
   "execution_count": 14,
   "id": "32f9f905",
   "metadata": {},
   "outputs": [
    {
     "name": "stdout",
     "output_type": "stream",
     "text": [
      "<class 'pandas.core.frame.DataFrame'>\n",
      "RangeIndex: 8789 entries, 0 to 8788\n",
      "Data columns (total 77 columns):\n",
      " #   Column                       Non-Null Count  Dtype \n",
      "---  ------                       --------------  ----- \n",
      " 0   Unnamed: 0                   8789 non-null   int64 \n",
      " 1   name                         8789 non-null   object\n",
      " 2   serving_size                 8789 non-null   object\n",
      " 3   calories                     8789 non-null   int64 \n",
      " 4   total_fat                    8789 non-null   object\n",
      " 5   saturated_fat                7199 non-null   object\n",
      " 6   cholesterol                  8789 non-null   object\n",
      " 7   sodium                       8789 non-null   object\n",
      " 8   choline                      8789 non-null   object\n",
      " 9   folate                       8789 non-null   object\n",
      " 10  folic_acid                   8789 non-null   object\n",
      " 11  niacin                       8789 non-null   object\n",
      " 12  pantothenic_acid             8789 non-null   object\n",
      " 13  riboflavin                   8789 non-null   object\n",
      " 14  thiamin                      8789 non-null   object\n",
      " 15  vitamin_a                    8789 non-null   object\n",
      " 16  vitamin_a_rae                8789 non-null   object\n",
      " 17  carotene_alpha               8789 non-null   object\n",
      " 18  carotene_beta                8789 non-null   object\n",
      " 19  cryptoxanthin_beta           8789 non-null   object\n",
      " 20  lutein_zeaxanthin            8789 non-null   object\n",
      " 21  lucopene                     8789 non-null   int64 \n",
      " 22  vitamin_b12                  8789 non-null   object\n",
      " 23  vitamin_b6                   8789 non-null   object\n",
      " 24  vitamin_c                    8789 non-null   object\n",
      " 25  vitamin_d                    8789 non-null   object\n",
      " 26  vitamin_e                    8789 non-null   object\n",
      " 27  tocopherol_alpha             8789 non-null   object\n",
      " 28  vitamin_k                    8789 non-null   object\n",
      " 29  calcium                      8789 non-null   object\n",
      " 30  copper                       8789 non-null   object\n",
      " 31  irom                         8789 non-null   object\n",
      " 32  magnesium                    8789 non-null   object\n",
      " 33  manganese                    8789 non-null   object\n",
      " 34  phosphorous                  8789 non-null   object\n",
      " 35  potassium                    8789 non-null   object\n",
      " 36  selenium                     8789 non-null   object\n",
      " 37  zink                         8789 non-null   object\n",
      " 38  protein                      8789 non-null   object\n",
      " 39  alanine                      8789 non-null   object\n",
      " 40  arginine                     8789 non-null   object\n",
      " 41  aspartic_acid                8789 non-null   object\n",
      " 42  cystine                      8789 non-null   object\n",
      " 43  glutamic_acid                8789 non-null   object\n",
      " 44  glycine                      8789 non-null   object\n",
      " 45  histidine                    8789 non-null   object\n",
      " 46  hydroxyproline               8789 non-null   object\n",
      " 47  isoleucine                   8789 non-null   object\n",
      " 48  leucine                      8789 non-null   object\n",
      " 49  lysine                       8789 non-null   object\n",
      " 50  methionine                   8789 non-null   object\n",
      " 51  phenylalanine                8789 non-null   object\n",
      " 52  proline                      8789 non-null   object\n",
      " 53  serine                       8789 non-null   object\n",
      " 54  threonine                    8789 non-null   object\n",
      " 55  tryptophan                   8789 non-null   object\n",
      " 56  tyrosine                     8789 non-null   object\n",
      " 57  valine                       8789 non-null   object\n",
      " 58  carbohydrate                 8789 non-null   object\n",
      " 59  fiber                        8789 non-null   object\n",
      " 60  sugars                       8789 non-null   object\n",
      " 61  fructose                     8789 non-null   object\n",
      " 62  galactose                    8789 non-null   object\n",
      " 63  glucose                      8789 non-null   object\n",
      " 64  lactose                      8789 non-null   object\n",
      " 65  maltose                      8789 non-null   object\n",
      " 66  sucrose                      8789 non-null   object\n",
      " 67  fat                          8789 non-null   object\n",
      " 68  saturated_fatty_acids        8789 non-null   object\n",
      " 69  monounsaturated_fatty_acids  8789 non-null   object\n",
      " 70  polyunsaturated_fatty_acids  8789 non-null   object\n",
      " 71  fatty_acids_total_trans      8789 non-null   object\n",
      " 72  alcohol                      8789 non-null   object\n",
      " 73  ash                          8789 non-null   object\n",
      " 74  caffeine                     8789 non-null   object\n",
      " 75  theobromine                  8789 non-null   object\n",
      " 76  water                        8789 non-null   object\n",
      "dtypes: int64(3), object(74)\n",
      "memory usage: 5.2+ MB\n"
     ]
    }
   ],
   "source": [
    "data.info()"
   ]
  },
  {
   "cell_type": "code",
   "execution_count": 15,
   "id": "5c173b26",
   "metadata": {},
   "outputs": [],
   "source": [
    "# Verify the column names:"
   ]
  },
  {
   "cell_type": "code",
   "execution_count": 59,
   "id": "c1973348",
   "metadata": {},
   "outputs": [
    {
     "name": "stdout",
     "output_type": "stream",
     "text": [
      "Index(['Unnamed: 0', 'name', 'serving_size', 'calories', 'total_fat',\n",
      "       'saturated_fat', 'cholesterol', 'sodium', 'choline', 'folate',\n",
      "       'folic_acid', 'niacin', 'pantothenic_acid', 'riboflavin', 'thiamin',\n",
      "       'vitamin_a', 'vitamin_a_rae', 'carotene_alpha', 'carotene_beta',\n",
      "       'cryptoxanthin_beta', 'lutein_zeaxanthin', 'lucopene', 'vitamin_b12',\n",
      "       'vitamin_b6', 'vitamin_c', 'vitamin_d', 'vitamin_e', 'tocopherol_alpha',\n",
      "       'vitamin_k', 'calcium', 'copper', 'irom', 'magnesium', 'manganese',\n",
      "       'phosphorous', 'potassium', 'selenium', 'zink', 'protein', 'alanine',\n",
      "       'arginine', 'aspartic_acid', 'cystine', 'glutamic_acid', 'glycine',\n",
      "       'histidine', 'hydroxyproline', 'isoleucine', 'leucine', 'lysine',\n",
      "       'methionine', 'phenylalanine', 'proline', 'serine', 'threonine',\n",
      "       'tryptophan', 'tyrosine', 'valine', 'carbohydrate', 'fiber', 'sugars',\n",
      "       'fructose', 'galactose', 'glucose', 'lactose', 'maltose', 'sucrose',\n",
      "       'fat', 'saturated_fatty_acids', 'monounsaturated_fatty_acids',\n",
      "       'polyunsaturated_fatty_acids', 'fatty_acids_total_trans', 'alcohol',\n",
      "       'ash', 'caffeine', 'theobromine', 'water'],\n",
      "      dtype='object')\n"
     ]
    }
   ],
   "source": [
    "print(data.columns)"
   ]
  },
  {
   "cell_type": "code",
   "execution_count": 60,
   "id": "64815b2d",
   "metadata": {},
   "outputs": [],
   "source": [
    "# Get the total number of elements from the dataframe:"
   ]
  },
  {
   "cell_type": "code",
   "execution_count": 62,
   "id": "9e3be1c1",
   "metadata": {},
   "outputs": [
    {
     "name": "stdout",
     "output_type": "stream",
     "text": [
      "Total number of elements in the dataframe: 554323\n"
     ]
    }
   ],
   "source": [
    "total_elements = data.size\n",
    "print(\"Total number of elements in the dataframe:\", total_elements)\n"
   ]
  },
  {
   "cell_type": "code",
   "execution_count": null,
   "id": "4da1c8e2",
   "metadata": {},
   "outputs": [],
   "source": [
    "# Get the dimensionality of the dataframe (number of axes / array dimensions):"
   ]
  },
  {
   "cell_type": "code",
   "execution_count": 63,
   "id": "3b03f7e2",
   "metadata": {},
   "outputs": [
    {
     "name": "stdout",
     "output_type": "stream",
     "text": [
      "Dimensionality of the dataframe: 2\n"
     ]
    }
   ],
   "source": [
    "dimensionality = data.ndim\n",
    "print(\"Dimensionality of the dataframe:\", dimensionality)\n"
   ]
  },
  {
   "cell_type": "code",
   "execution_count": null,
   "id": "9d73755f",
   "metadata": {},
   "outputs": [],
   "source": [
    "# Count of unique data types:"
   ]
  },
  {
   "cell_type": "code",
   "execution_count": 64,
   "id": "1878ca8c",
   "metadata": {},
   "outputs": [
    {
     "name": "stdout",
     "output_type": "stream",
     "text": [
      "Count of unique data types:\n",
      " object     70\n",
      "float64     4\n",
      "int64       3\n",
      "dtype: int64\n"
     ]
    }
   ],
   "source": [
    "unique_data_types = data.dtypes.value_counts()\n",
    "print(\"Count of unique data types:\\n\", unique_data_types)"
   ]
  },
  {
   "cell_type": "code",
   "execution_count": null,
   "id": "40bfd513",
   "metadata": {},
   "outputs": [],
   "source": [
    "# Selecting data based on data types:"
   ]
  },
  {
   "cell_type": "code",
   "execution_count": 65,
   "id": "dc4e0aa3",
   "metadata": {},
   "outputs": [
    {
     "name": "stdout",
     "output_type": "stream",
     "text": [
      "Columns with 'object' data type:\n",
      "                                                    name serving_size  \\\n",
      "1                                          Nuts, pecans        100 g   \n",
      "3                                        Teff, uncooked        100 g   \n",
      "4                                       Sherbet, orange        100 g   \n",
      "5                                      Cauliflower, raw        100 g   \n",
      "6                                      Taro leaves, raw        100 g   \n",
      "...                                                 ...          ...   \n",
      "8784  Beef, raw, all grades, trimmed to 0\" fat, sepa...        100 g   \n",
      "8785  Lamb, cooked, separable lean only, composite o...        100 g   \n",
      "8786  Lamb, raw, separable lean and fat, composite o...        100 g   \n",
      "8787  Beef, raw, all grades, trimmed to 0\" fat, sepa...        100 g   \n",
      "8788  Beef, raw, all grades, trimmed to 0\" fat, sepa...        100 g   \n",
      "\n",
      "     saturated_fat    sodium  choline      folate folic_acid    niacin  \\\n",
      "1             6.2g   0.00 mg  40.5 mg   22.00 mcg   0.00 mcg  1.167 mg   \n",
      "3             0.4g  12.00 mg  13.1 mg           0          0  3.363 mg   \n",
      "4             1.2g  46.00 mg   7.7 mg    4.00 mcg   0.00 mcg  0.063 mg   \n",
      "5             0.1g  30.00 mg  44.3 mg   57.00 mcg   0.00 mcg  0.507 mg   \n",
      "6             0.2g   3.00 mg  12.8 mg  126.00 mcg   0.00 mcg  1.513 mg   \n",
      "...            ...       ...      ...         ...        ...       ...   \n",
      "8784          1.4g  54.00 mg  64.5 mg    4.00 mcg   0.00 mcg  6.422 mg   \n",
      "8785          3.9g  50.00 mg        0    0.00 mcg   0.00 mcg  7.680 mg   \n",
      "8786           12g  39.00 mg        0    1.00 mcg   0.00 mcg  6.550 mg   \n",
      "8787          1.1g  53.00 mg  64.2 mg    4.00 mcg   0.00 mcg  6.720 mg   \n",
      "8788          1.1g  53.00 mg  64.2 mg    4.00 mcg   0.00 mcg  6.720 mg   \n",
      "\n",
      "     pantothenic_acid riboflavin  ...      fat saturated_fatty_acids  \\\n",
      "1            0.863 mg   0.130 mg  ...  71.97 g               6.180 g   \n",
      "3            0.942 mg   0.270 mg  ...   2.38 g               0.449 g   \n",
      "4            0.224 mg   0.097 mg  ...   2.00 g               1.160 g   \n",
      "5            0.667 mg   0.060 mg  ...   0.28 g               0.130 g   \n",
      "6            0.084 mg   0.456 mg  ...   0.74 g               0.151 g   \n",
      "...               ...        ...  ...      ...                   ...   \n",
      "8784         0.356 mg   0.234 mg  ...   3.50 g               1.353 g   \n",
      "8785         0.580 mg   0.500 mg  ...   8.86 g               3.860 g   \n",
      "8786         0.520 mg   0.320 mg  ...  22.74 g              11.570 g   \n",
      "8787         0.355 mg   0.184 mg  ...   3.04 g               1.086 g   \n",
      "8788         0.355 mg   0.184 mg  ...   3.04 g               1.086 g   \n",
      "\n",
      "     monounsaturated_fatty_acids polyunsaturated_fatty_acids  \\\n",
      "1                       40.801 g                    21.614 g   \n",
      "3                        0.589 g                     1.071 g   \n",
      "4                        0.530 g                     0.080 g   \n",
      "5                        0.034 g                     0.031 g   \n",
      "6                        0.060 g                     0.307 g   \n",
      "...                          ...                         ...   \n",
      "8784                     1.554 g                     0.244 g   \n",
      "8785                     3.480 g                     0.520 g   \n",
      "8786                     8.720 g                     0.980 g   \n",
      "8787                     1.266 g                     0.233 g   \n",
      "8788                     1.266 g                     0.233 g   \n",
      "\n",
      "     fatty_acids_total_trans alcohol     ash caffeine theobromine    water  \n",
      "1                    0.00 mg   0.0 g  1.49 g  0.00 mg     0.00 mg   3.52 g  \n",
      "3                          0       0  2.37 g        0           0   8.82 g  \n",
      "4                    1.00 mg   0.0 g  0.40 g  0.00 mg     0.00 mg  66.10 g  \n",
      "5                    0.00 mg   0.0 g  0.76 g  0.00 mg     0.00 mg  92.07 g  \n",
      "6                    0.00 mg   0.0 g  1.92 g  0.00 mg     0.00 mg  85.66 g  \n",
      "...                      ...     ...     ...      ...         ...      ...  \n",
      "8784                62.00 mg   0.0 g  1.11 g  0.00 mg     0.00 mg  72.51 g  \n",
      "8785               109.00 mg       0  1.60 g        0           0  59.95 g  \n",
      "8786                78.00 mg       0  0.92 g        0           0  59.80 g  \n",
      "8787                60.00 mg   0.0 g  1.10 g  0.00 mg     0.00 mg  73.43 g  \n",
      "8788                60.00 mg   0.0 g  1.10 g  0.00 mg     0.00 mg  73.43 g  \n",
      "\n",
      "[7199 rows x 70 columns]\n"
     ]
    }
   ],
   "source": [
    "# Example: Selecting columns with 'object' data type\n",
    "object_columns = data.select_dtypes(include=['object'])\n",
    "print(\"Columns with 'object' data type:\\n\", object_columns)\n"
   ]
  },
  {
   "cell_type": "code",
   "execution_count": null,
   "id": "7752fae1",
   "metadata": {},
   "outputs": [],
   "source": [
    "# Checking format of each column:"
   ]
  },
  {
   "cell_type": "code",
   "execution_count": 66,
   "id": "cb942145",
   "metadata": {},
   "outputs": [
    {
     "name": "stdout",
     "output_type": "stream",
     "text": [
      "Data types of each column:\n",
      "Unnamed: 0        int64\n",
      "name             object\n",
      "serving_size     object\n",
      "calories          int64\n",
      "total_fat       float64\n",
      "                 ...   \n",
      "alcohol          object\n",
      "ash              object\n",
      "caffeine         object\n",
      "theobromine      object\n",
      "water            object\n",
      "Length: 77, dtype: object\n"
     ]
    }
   ],
   "source": [
    "# Display data types of each column\n",
    "print(\"Data types of each column:\")\n",
    "print(data.dtypes)\n"
   ]
  },
  {
   "cell_type": "code",
   "execution_count": 70,
   "id": "7cc9b2f5",
   "metadata": {},
   "outputs": [],
   "source": [
    "# Replace null values in a column by mean value (example with 'TotalCharges'):"
   ]
  },
  {
   "cell_type": "code",
   "execution_count": 71,
   "id": "38460cd7",
   "metadata": {},
   "outputs": [],
   "source": [
    "# Replace null values in 'calories' column by mean value\n",
    "data['calories'] = pd.to_numeric(data['calories'], errors='coerce')\n",
    "data['calories'].fillna(data['calories'].mean(), inplace=True)\n"
   ]
  },
  {
   "cell_type": "code",
   "execution_count": null,
   "id": "c555dc1e",
   "metadata": {},
   "outputs": [],
   "source": [
    "#  Using pandas describe() to find outliers:"
   ]
  },
  {
   "cell_type": "code",
   "execution_count": 72,
   "id": "e2380c17",
   "metadata": {},
   "outputs": [
    {
     "name": "stdout",
     "output_type": "stream",
     "text": [
      "        Unnamed: 0     calories  total_fat  cholesterol  lucopene  protein  \\\n",
      "count  7199.000000  7199.000000        0.0       2556.0    7199.0      0.0   \n",
      "mean   4599.422003   255.973330        NaN          0.0       0.0      NaN   \n",
      "std    2557.642163   166.281991        NaN          0.0       0.0      NaN   \n",
      "min       1.000000     4.000000        NaN          0.0       0.0      NaN   \n",
      "25%    2376.500000   130.000000        NaN          0.0       0.0      NaN   \n",
      "50%    4727.000000   221.000000        NaN          0.0       0.0      NaN   \n",
      "75%    6863.500000   361.000000        NaN          0.0       0.0      NaN   \n",
      "max    8788.000000   902.000000        NaN          0.0       0.0      NaN   \n",
      "\n",
      "       sugars  \n",
      "count  1406.0  \n",
      "mean      0.0  \n",
      "std       0.0  \n",
      "min       0.0  \n",
      "25%       0.0  \n",
      "50%       0.0  \n",
      "75%       0.0  \n",
      "max       0.0  \n"
     ]
    }
   ],
   "source": [
    "# Display summary statistics to identify outliers\n",
    "print(data.describe())\n"
   ]
  },
  {
   "cell_type": "code",
   "execution_count": null,
   "id": "43562da3",
   "metadata": {},
   "outputs": [],
   "source": [
    "# Low-Calorie Foods: Filter for foods with fewer than 50 calories:"
   ]
  },
  {
   "cell_type": "code",
   "execution_count": 52,
   "id": "ab00807b",
   "metadata": {},
   "outputs": [
    {
     "name": "stdout",
     "output_type": "stream",
     "text": [
      "Foods with less than 50 calories:\n",
      "                                                   name  calories\n",
      "5                                      Cauliflower, raw        25\n",
      "6                                      Taro leaves, raw        42\n",
      "17                               Peppers, raw, jalapeno        29\n",
      "33                               Broccoli, raw, chinese        30\n",
      "46                                Brussels sprouts, raw        43\n",
      "...                                                 ...       ...\n",
      "8002  Milk, vitamin A and vitamin D, with added nonf...        43\n",
      "8012  Soymilk, vitamins A and D, with added calcium,...        34\n",
      "8047  Milk, with added vitamin A and vitamin D, prot...        48\n",
      "8416  Yogurt, fortified with vitamin D, sweetened wi...        43\n",
      "8430  Beverages, prepared with water and ice, powder...        29\n",
      "\n",
      "[370 rows x 2 columns]\n"
     ]
    }
   ],
   "source": [
    "low_calorie_foods = data[data['calories'] < 50]\n",
    "print(\"Foods with less than 50 calories:\")\n",
    "print(low_calorie_foods[['name', 'calories']])\n"
   ]
  },
  {
   "cell_type": "code",
   "execution_count": null,
   "id": "884dcebb",
   "metadata": {},
   "outputs": [],
   "source": [
    "# High-Fat Foods: Retrieve foods with more than 30 grams of total fat:\n"
   ]
  },
  {
   "cell_type": "code",
   "execution_count": 54,
   "id": "a54f27e3",
   "metadata": {},
   "outputs": [
    {
     "name": "stdout",
     "output_type": "stream",
     "text": [
      "Foods with more than 30g of total fat:\n",
      "Empty DataFrame\n",
      "Columns: [name, total_fat]\n",
      "Index: []\n"
     ]
    }
   ],
   "source": [
    "# Convert 'total_fat' column to numeric (assuming it contains numeric values)\n",
    "data['total_fat'] = pd.to_numeric(data['total_fat'], errors='coerce')\n",
    "\n",
    "# Filter foods with more than 30 grams of total fat\n",
    "high_fat_foods = data[data['total_fat'] > 30]\n",
    "print(\"Foods with more than 30g of total fat:\")\n",
    "print(high_fat_foods[['name', 'total_fat']])\n"
   ]
  },
  {
   "cell_type": "code",
   "execution_count": 55,
   "id": "5754c223",
   "metadata": {},
   "outputs": [],
   "source": [
    "# High-Protein Foods: Filter foods with more than 20 grams of protein:"
   ]
  },
  {
   "cell_type": "code",
   "execution_count": 56,
   "id": "742f940e",
   "metadata": {},
   "outputs": [
    {
     "name": "stdout",
     "output_type": "stream",
     "text": [
      "Foods with more than 20g of protein:\n",
      "Empty DataFrame\n",
      "Columns: [name, protein]\n",
      "Index: []\n"
     ]
    }
   ],
   "source": [
    "high_protein_foods = data[data['protein'] > 20]\n",
    "print(\"Foods with more than 20g of protein:\")\n",
    "print(high_protein_foods[['name', 'protein']])\n"
   ]
  },
  {
   "cell_type": "code",
   "execution_count": null,
   "id": "b57216f2",
   "metadata": {},
   "outputs": [],
   "source": [
    "# Low-Cholesterol Foods: Retrieve foods with less than 5 milligrams of cholesterol:"
   ]
  },
  {
   "cell_type": "code",
   "execution_count": 57,
   "id": "7d78cba4",
   "metadata": {},
   "outputs": [
    {
     "name": "stdout",
     "output_type": "stream",
     "text": [
      "Foods with less than 5mg of cholesterol:\n",
      "                                                   name  cholesterol\n",
      "1                                          Nuts, pecans          0.0\n",
      "3                                        Teff, uncooked          0.0\n",
      "5                                      Cauliflower, raw          0.0\n",
      "6                                      Taro leaves, raw          0.0\n",
      "9                                    Vegetarian fillets          0.0\n",
      "...                                                 ...          ...\n",
      "8747  Infant formula, not reconstituted, liquid conc...          0.0\n",
      "8748  Infant Formula, not reconstituted, Liquid conc...          0.0\n",
      "8761  Margarine, for flaky pastries, soy oil (partia...          0.0\n",
      "8771  Infant formula, not reconstituted, liquid conc...          0.0\n",
      "8782  Oil, uses similar to 95 degree hard butter, co...          0.0\n",
      "\n",
      "[2556 rows x 2 columns]\n"
     ]
    }
   ],
   "source": [
    "low_cholesterol_foods = data[data['cholesterol'] < 5]\n",
    "print(\"Foods with less than 5mg of cholesterol:\")\n",
    "print(low_cholesterol_foods[['name', 'cholesterol']])\n"
   ]
  },
  {
   "cell_type": "code",
   "execution_count": 17,
   "id": "cb5e53a8",
   "metadata": {},
   "outputs": [],
   "source": [
    "# Data Cleaning and Preprocessing"
   ]
  },
  {
   "cell_type": "code",
   "execution_count": 22,
   "id": "7cad263d",
   "metadata": {},
   "outputs": [],
   "source": [
    "# After loading the dataset, you might need to clean the data by handling missing values, converting data types, or removing unnecessary columns."
   ]
  },
  {
   "cell_type": "code",
   "execution_count": 25,
   "id": "fe818d3b",
   "metadata": {},
   "outputs": [
    {
     "name": "stdout",
     "output_type": "stream",
     "text": [
      "   Unnamed: 0              name serving_size  calories total_fat  \\\n",
      "1           1      Nuts, pecans        100 g       691       72g   \n",
      "3           3    Teff, uncooked        100 g       367      2.4g   \n",
      "4           4   Sherbet, orange        100 g       144        2g   \n",
      "5           5  Cauliflower, raw        100 g        25      0.3g   \n",
      "6           6  Taro leaves, raw        100 g        42      0.7g   \n",
      "\n",
      "  saturated_fat cholesterol    sodium  choline      folate  ...      fat  \\\n",
      "1          6.2g           0   0.00 mg  40.5 mg   22.00 mcg  ...  71.97 g   \n",
      "3          0.4g           0  12.00 mg  13.1 mg           0  ...   2.38 g   \n",
      "4          1.2g         1mg  46.00 mg   7.7 mg    4.00 mcg  ...   2.00 g   \n",
      "5          0.1g           0  30.00 mg  44.3 mg   57.00 mcg  ...   0.28 g   \n",
      "6          0.2g           0   3.00 mg  12.8 mg  126.00 mcg  ...   0.74 g   \n",
      "\n",
      "  saturated_fatty_acids monounsaturated_fatty_acids  \\\n",
      "1               6.180 g                    40.801 g   \n",
      "3               0.449 g                     0.589 g   \n",
      "4               1.160 g                     0.530 g   \n",
      "5               0.130 g                     0.034 g   \n",
      "6               0.151 g                     0.060 g   \n",
      "\n",
      "  polyunsaturated_fatty_acids fatty_acids_total_trans alcohol     ash  \\\n",
      "1                    21.614 g                 0.00 mg   0.0 g  1.49 g   \n",
      "3                     1.071 g                       0       0  2.37 g   \n",
      "4                     0.080 g                 1.00 mg   0.0 g  0.40 g   \n",
      "5                     0.031 g                 0.00 mg   0.0 g  0.76 g   \n",
      "6                     0.307 g                 0.00 mg   0.0 g  1.92 g   \n",
      "\n",
      "  caffeine theobromine    water  \n",
      "1  0.00 mg     0.00 mg   3.52 g  \n",
      "3        0           0   8.82 g  \n",
      "4  0.00 mg     0.00 mg  66.10 g  \n",
      "5  0.00 mg     0.00 mg  92.07 g  \n",
      "6  0.00 mg     0.00 mg  85.66 g  \n",
      "\n",
      "[5 rows x 77 columns]\n"
     ]
    }
   ],
   "source": [
    "# Drop rows with missing values in the 'calories' column\n",
    "data.dropna(subset=['calories'], inplace=True)\n",
    "\n",
    "# Convert 'calories' column to integer type (assuming it contains numeric values)\n",
    "data['calories'] = data['calories'].astype(int)\n",
    "\n",
    "# Display the first few rows of the modified DataFrame\n",
    "print(data.head())"
   ]
  },
  {
   "cell_type": "code",
   "execution_count": null,
   "id": "45f4c1cc",
   "metadata": {},
   "outputs": [],
   "source": [
    "# Statistical Analysis and Visualization"
   ]
  },
  {
   "cell_type": "code",
   "execution_count": null,
   "id": "c6b07b55",
   "metadata": {},
   "outputs": [],
   "source": [
    "# We can perform statistical analysis and create visualizations to better understand the nutritional information:"
   ]
  },
  {
   "cell_type": "code",
   "execution_count": 27,
   "id": "28b51192",
   "metadata": {},
   "outputs": [
    {
     "name": "stdout",
     "output_type": "stream",
     "text": [
      "        Unnamed: 0     calories  lucopene\n",
      "count  7199.000000  7199.000000    7199.0\n",
      "mean   4599.422003   255.973330       0.0\n",
      "std    2557.642163   166.281991       0.0\n",
      "min       1.000000     4.000000       0.0\n",
      "25%    2376.500000   130.000000       0.0\n",
      "50%    4727.000000   221.000000       0.0\n",
      "75%    6863.500000   361.000000       0.0\n",
      "max    8788.000000   902.000000       0.0\n"
     ]
    },
    {
     "data": {
      "image/png": "[encoded data removed]",
      "text/plain": [
       "<Figure size 640x480 with 1 Axes>"
      ]
     },
     "metadata": {},
     "output_type": "display_data"
    }
   ],
   "source": [
    "# Summary statistics\n",
    "print(data.describe())\n",
    "\n",
    "# Visualize calorie distribution using the correct column name\n",
    "plt.hist(data['calories'], bins=20)  # Replace 'calories' with the appropriate column name if different\n",
    "plt.xlabel('Calories')\n",
    "plt.ylabel('Frequency')\n",
    "plt.title('Distribution of Calories')\n",
    "plt.show()"
   ]
  },
  {
   "cell_type": "code",
   "execution_count": null,
   "id": "5b947de8",
   "metadata": {},
   "outputs": [],
   "source": [
    "# Filtering and Recommendations"
   ]
  },
  {
   "cell_type": "code",
   "execution_count": null,
   "id": "3cfea183",
   "metadata": {},
   "outputs": [],
   "source": [
    "# Based on specific nutritional requirements, you can filter the dataset and provide recommendations:"
   ]
  },
  {
   "cell_type": "code",
   "execution_count": 36,
   "id": "058f9b65",
   "metadata": {},
   "outputs": [
    {
     "name": "stdout",
     "output_type": "stream",
     "text": [
      "Foods with less than 300 calories:\n",
      "                                                   name  calories\n",
      "4                                       Sherbet, orange       144\n",
      "5                                      Cauliflower, raw        25\n",
      "6                                      Taro leaves, raw        42\n",
      "7                                     Lamb, raw, ground       282\n",
      "9                                    Vegetarian fillets       290\n",
      "...                                                 ...       ...\n",
      "8784  Beef, raw, all grades, trimmed to 0\" fat, sepa...       125\n",
      "8785  Lamb, cooked, separable lean only, composite o...       206\n",
      "8786  Lamb, raw, separable lean and fat, composite o...       277\n",
      "8787  Beef, raw, all grades, trimmed to 0\" fat, sepa...       121\n",
      "8788  Beef, raw, all grades, trimmed to 0\" fat, sepa...       121\n",
      "\n",
      "[4734 rows x 2 columns]\n",
      "Foods with more than 10g of protein:\n",
      "Empty DataFrame\n",
      "Columns: [name, protein]\n",
      "Index: []\n"
     ]
    }
   ],
   "source": [
    "# Convert 'protein' column to numeric type (assuming it contains numeric values)\n",
    "data['protein'] = pd.to_numeric(data['protein'], errors='coerce')\n",
    "\n",
    "# Filtering foods with calories less than 300\n",
    "low_calorie_foods = data[data['calories'] < 300]\n",
    "print(\"Foods with less than 300 calories:\")\n",
    "print(low_calorie_foods[['name', 'calories']])\n",
    "\n",
    "# Filtering foods with more than 10g of protein\n",
    "high_protein_foods = data[data['protein'] > 10]\n",
    "print(\"Foods with more than 10g of protein:\")\n",
    "print(high_protein_foods[['name', 'protein']])\n"
   ]
  },
  {
   "cell_type": "code",
   "execution_count": null,
   "id": "a4847f1d",
   "metadata": {},
   "outputs": [],
   "source": [
    "#  Analyze nutrient content"
   ]
  },
  {
   "cell_type": "code",
   "execution_count": null,
   "id": "ffc14a4a",
   "metadata": {},
   "outputs": [],
   "source": [
    "# Perform statistical analysis or visualizations to explore nutrient content in the filtered dataset."
   ]
  },
  {
   "cell_type": "code",
   "execution_count": 37,
   "id": "39cb07f1",
   "metadata": {},
   "outputs": [
    {
     "data": {
      "image/png": "[encoded data removed]",
      "text/plain": [
       "<Figure size 640x480 with 1 Axes>"
      ]
     },
     "metadata": {},
     "output_type": "display_data"
    }
   ],
   "source": [
    "# Plotting nutrient distribution (e.g., total fat)\n",
    "plt.hist(low_calorie_foods['total_fat'], bins=20)\n",
    "plt.xlabel('Total Fat')\n",
    "plt.ylabel('Frequency')\n",
    "plt.title('Distribution of Total Fat in Low-Calorie Foods')\n",
    "plt.show()"
   ]
  },
  {
   "cell_type": "code",
   "execution_count": null,
   "id": "71c92e03",
   "metadata": {},
   "outputs": [],
   "source": [
    "#  Check the data types of 'calories' and 'cholesterol' columns"
   ]
  },
  {
   "cell_type": "code",
   "execution_count": 40,
   "id": "b6e1e45a",
   "metadata": {},
   "outputs": [
    {
     "name": "stdout",
     "output_type": "stream",
     "text": [
      "int64\n",
      "object\n"
     ]
    }
   ],
   "source": [
    "print(data['calories'].dtype)\n",
    "print(data['cholesterol'].dtype)"
   ]
  },
  {
   "cell_type": "code",
   "execution_count": null,
   "id": "7a8d392a",
   "metadata": {},
   "outputs": [],
   "source": [
    "# Convert columns to numeric data types if needed"
   ]
  },
  {
   "cell_type": "code",
   "execution_count": 41,
   "id": "7e113bcb",
   "metadata": {},
   "outputs": [],
   "source": [
    "data['calories'] = pd.to_numeric(data['calories'], errors='coerce')\n",
    "data['cholesterol'] = pd.to_numeric(data['cholesterol'], errors='coerce')"
   ]
  },
  {
   "cell_type": "code",
   "execution_count": null,
   "id": "e4e9c7de",
   "metadata": {},
   "outputs": [],
   "source": [
    "# Provide recommendations"
   ]
  },
  {
   "cell_type": "code",
   "execution_count": null,
   "id": "768e1ad7",
   "metadata": {},
   "outputs": [],
   "source": [
    "# Generate recommendations based on the filtered dataset and specific nutritional requirements.\n",
    "\n",
    "# Example: Filter the dataset to find foods with both low calories and low cholesterol content."
   ]
  },
  {
   "cell_type": "code",
   "execution_count": 42,
   "id": "33414eea",
   "metadata": {},
   "outputs": [
    {
     "name": "stdout",
     "output_type": "stream",
     "text": [
      "Foods with less than 100 calories and less than 5mg cholesterol:\n",
      "                                                   name  calories  cholesterol\n",
      "5                                      Cauliflower, raw        25          0.0\n",
      "6                                      Taro leaves, raw        42          0.0\n",
      "17                               Peppers, raw, jalapeno        29          0.0\n",
      "33                               Broccoli, raw, chinese        30          0.0\n",
      "46                                Brussels sprouts, raw        43          0.0\n",
      "...                                                 ...       ...          ...\n",
      "8224  Cereals, without salt, cooked with water, quic...        55          0.0\n",
      "8226  Cereals, with salt, cooked with water (include...        71          0.0\n",
      "8328  Cereals, without salt, cooked with water (incl...        71          0.0\n",
      "8573  Cereals, without salt, prepared (microwaved or...        74          0.0\n",
      "8712  Infant formula, with ARA and DHA, ready-to-fee...        66          0.0\n",
      "\n",
      "[551 rows x 3 columns]\n"
     ]
    }
   ],
   "source": [
    "low_calorie_low_cholesterol = data[(data['calories'] < 100) & (data['cholesterol'] < 5)]\n",
    "print(\"Foods with less than 100 calories and less than 5mg cholesterol:\")\n",
    "print(low_calorie_low_cholesterol[['name', 'calories', 'cholesterol']])"
   ]
  },
  {
   "cell_type": "code",
   "execution_count": null,
   "id": "f8c012c0",
   "metadata": {},
   "outputs": [],
   "source": [
    "# Scatter Plot"
   ]
  },
  {
   "cell_type": "code",
   "execution_count": null,
   "id": "50e019bb",
   "metadata": {},
   "outputs": [],
   "source": [
    "# A scatter plot can represent individual data points for calories and cholesterol for foods."
   ]
  },
  {
   "cell_type": "code",
   "execution_count": 43,
   "id": "77c059fb",
   "metadata": {},
   "outputs": [
    {
     "data": {
      "image/png": "[encoded data removed]",
      "text/plain": [
       "<Figure size 640x480 with 1 Axes>"
      ]
     },
     "metadata": {},
     "output_type": "display_data"
    }
   ],
   "source": [
    "import matplotlib.pyplot as plt\n",
    "\n",
    "plt.scatter(low_calorie_low_cholesterol['calories'], low_calorie_low_cholesterol['cholesterol'])\n",
    "plt.xlabel('Calories')\n",
    "plt.ylabel('Cholesterol')\n",
    "plt.title('Scatter Plot of Foods with Low Calories and Low Cholesterol')\n",
    "plt.show()\n"
   ]
  },
  {
   "cell_type": "code",
   "execution_count": null,
   "id": "5d29d1ee",
   "metadata": {},
   "outputs": [],
   "source": [
    "# Histograms"
   ]
  },
  {
   "cell_type": "code",
   "execution_count": null,
   "id": "29006eac",
   "metadata": {},
   "outputs": [],
   "source": [
    "# Histograms can display the distribution of calories and cholesterol separately."
   ]
  },
  {
   "cell_type": "code",
   "execution_count": 44,
   "id": "b4d76ecf",
   "metadata": {},
   "outputs": [
    {
     "data": {
      "image/png": "[encoded data removed]",
      "text/plain": [
       "<Figure size 640x480 with 1 Axes>"
      ]
     },
     "metadata": {},
     "output_type": "display_data"
    }
   ],
   "source": [
    "plt.hist(low_calorie_low_cholesterol['calories'], bins=20, alpha=0.7, label='Calories')\n",
    "plt.hist(low_calorie_low_cholesterol['cholesterol'], bins=20, alpha=0.7, label='Cholesterol')\n",
    "plt.xlabel('Value')\n",
    "plt.ylabel('Frequency')\n",
    "plt.title('Histogram of Calories and Cholesterol in Foods')\n",
    "plt.legend()\n",
    "plt.show()\n"
   ]
  },
  {
   "cell_type": "code",
   "execution_count": null,
   "id": "c8325943",
   "metadata": {},
   "outputs": [],
   "source": [
    "# Boxplot"
   ]
  },
  {
   "cell_type": "code",
   "execution_count": null,
   "id": "d8b928c0",
   "metadata": {},
   "outputs": [],
   "source": [
    "# A boxplot can show the distribution of calories and cholesterol, including quartiles and outliers."
   ]
  },
  {
   "cell_type": "code",
   "execution_count": 45,
   "id": "0bcf0a37",
   "metadata": {},
   "outputs": [
    {
     "data": {
      "image/png": "[encoded data removed]",
      "text/plain": [
       "<Figure size 640x480 with 1 Axes>"
      ]
     },
     "metadata": {},
     "output_type": "display_data"
    }
   ],
   "source": [
    "plt.boxplot([low_calorie_low_cholesterol['calories'], low_calorie_low_cholesterol['cholesterol']], labels=['Calories', 'Cholesterol'])\n",
    "plt.ylabel('Value')\n",
    "plt.title('Boxplot of Calories and Cholesterol in Foods')\n",
    "plt.show()\n"
   ]
  },
  {
   "cell_type": "code",
   "execution_count": 66,
   "id": "4e7052e8",
   "metadata": {},
   "outputs": [
    {
     "name": "stdout",
     "output_type": "stream",
     "text": [
      "        Unnamed: 0     calories  lucopene\n",
      "count  7199.000000  7199.000000    7199.0\n",
      "mean   4599.422003   255.973330       0.0\n",
      "std    2557.642163   166.281991       0.0\n",
      "min       1.000000     4.000000       0.0\n",
      "25%    2376.500000   130.000000       0.0\n",
      "50%    4727.000000   221.000000       0.0\n",
      "75%    6863.500000   361.000000       0.0\n",
      "max    8788.000000   902.000000       0.0\n"
     ]
    }
   ],
   "source": [
    "# Summary statistics for numerical columns\n",
    "summary_stats = data.describe()\n",
    "print(summary_stats)\n"
   ]
  },
  {
   "cell_type": "code",
   "execution_count": 67,
   "id": "7f7e7441",
   "metadata": {},
   "outputs": [
    {
     "name": "stdout",
     "output_type": "stream",
     "text": [
      "          calories\n",
      "count  7199.000000\n",
      "mean    255.973330\n",
      "std     166.281991\n",
      "min       4.000000\n",
      "25%     130.000000\n",
      "50%     221.000000\n",
      "75%     361.000000\n",
      "max     902.000000\n"
     ]
    }
   ],
   "source": [
    "# Statistical analysis\n",
    "selected_columns = ['calories', 'total_fat', 'cholesterol', 'sodium']\n",
    "stats_selected = data[selected_columns].describe()\n",
    "print(stats_selected)\n"
   ]
  },
  {
   "cell_type": "code",
   "execution_count": 68,
   "id": "095a4826",
   "metadata": {},
   "outputs": [
    {
     "data": {
      "image/png": "[encoded data removed]",
      "text/plain": [
       "<Figure size 1200x800 with 1 Axes>"
      ]
     },
     "metadata": {},
     "output_type": "display_data"
    },
    {
     "data": {
      "image/png": "[encoded data removed]",
      "text/plain": [
       "<Figure size 800x600 with 1 Axes>"
      ]
     },
     "metadata": {},
     "output_type": "display_data"
    }
   ],
   "source": [
    "# Histograms for specific columns\n",
    "data[selected_columns].hist(bins=20, figsize=(12, 8))\n",
    "plt.suptitle('Histograms for Calories, Total Fat, Cholesterol, Sodium')\n",
    "plt.show()\n",
    "\n",
    "# Scatter plot for Total Fat vs. Cholesterol\n",
    "plt.figure(figsize=(8, 6))\n",
    "plt.scatter(data['total_fat'], data['cholesterol'])\n",
    "plt.title('Total Fat vs. Cholesterol')\n",
    "plt.xlabel('Total Fat')\n",
    "plt.ylabel('Cholesterol')\n",
    "plt.grid(True)\n",
    "plt.show()\n"
   ]
  },
  {
   "cell_type": "code",
   "execution_count": 69,
   "id": "b508002c",
   "metadata": {},
   "outputs": [
    {
     "name": "stdout",
     "output_type": "stream",
     "text": [
      "      Unnamed: 0                                 name serving_size  calories  \\\n",
      "1019        1019           Game meat, raw, wild, boar        100 g       122   \n",
      "1265        1265              Octopus (Alaska Native)        100 g        56   \n",
      "1389        1389  Seal, liver (Alaska Native), ringed        100 g       116   \n",
      "1422        1422   WENDY'S, with cheese, Double Stack        100 g       285   \n",
      "1533        1533    Walrus, raw (Alaska Native), meat        100 g       199   \n",
      "\n",
      "     total_fat saturated_fat cholesterol  sodium choline folate  ...      fat  \\\n",
      "1019      3.3g            1g           0     0.0       0      0  ...   3.33 g   \n",
      "1265      0.8g          0.2g        41mg     0.0       0      0  ...   0.80 g   \n",
      "1389      3.3g          1.2g           0     0.0       0      0  ...   3.30 g   \n",
      "1422       17g          6.9g           0     0.0       0      0  ...  16.60 g   \n",
      "1533       14g          2.6g        80mg     0.0       0      0  ...  13.60 g   \n",
      "\n",
      "     saturated_fatty_acids monounsaturated_fatty_acids  \\\n",
      "1019               0.990 g                     1.300 g   \n",
      "1265               0.200 g                           0   \n",
      "1389               1.170 g                     1.100 g   \n",
      "1422               6.851 g                     7.268 g   \n",
      "1533               2.570 g                     8.420 g   \n",
      "\n",
      "     polyunsaturated_fatty_acids fatty_acids_total_trans alcohol     ash  \\\n",
      "1019                     0.480 g                       0       0  0.97 g   \n",
      "1265                     0.200 g                41.00 mg       0  1.50 g   \n",
      "1389                     1.030 g                       0       0  1.00 g   \n",
      "1422                     1.264 g                       0       0  1.94 g   \n",
      "1533                     2.600 g                80.00 mg       0  2.10 g   \n",
      "\n",
      "     caffeine theobromine    water  \n",
      "1019        0           0  72.54 g  \n",
      "1265        0           0  84.00 g  \n",
      "1389        0           0  74.20 g  \n",
      "1422        0           0  47.58 g  \n",
      "1533        0           0  65.10 g  \n",
      "\n",
      "[5 rows x 77 columns]\n"
     ]
    }
   ],
   "source": [
    "# Convert 'calories' and 'sodium' columns to numeric type\n",
    "data['calories'] = pd.to_numeric(data['calories'], errors='coerce')\n",
    "data['sodium'] = pd.to_numeric(data['sodium'], errors='coerce')\n",
    "\n",
    "# Filtering data based on conditions\n",
    "filtered_data = data[(data['calories'] > 50) & (data['sodium'] < 10)]\n",
    "print(filtered_data.head())\n"
   ]
  },
  {
   "cell_type": "code",
   "execution_count": 70,
   "id": "5ae32770",
   "metadata": {},
   "outputs": [
    {
     "name": "stdout",
     "output_type": "stream",
     "text": [
      "High Protein Foods:\n",
      "                                                   name  protein\n",
      "1                                          Nuts, pecans   9.17 g\n",
      "3                                        Teff, uncooked  13.30 g\n",
      "6                                      Taro leaves, raw   4.98 g\n",
      "7                                     Lamb, raw, ground  16.56 g\n",
      "8                                     Cheese, camembert  19.80 g\n",
      "...                                                 ...      ...\n",
      "8784  Beef, raw, all grades, trimmed to 0\" fat, sepa...  23.45 g\n",
      "8785  Lamb, cooked, separable lean only, composite o...  29.59 g\n",
      "8786  Lamb, raw, separable lean and fat, composite o...  16.74 g\n",
      "8787  Beef, raw, all grades, trimmed to 0\" fat, sepa...  23.37 g\n",
      "8788  Beef, raw, all grades, trimmed to 0\" fat, sepa...  23.37 g\n",
      "\n",
      "[6392 rows x 2 columns]\n",
      "\n",
      "Low Cholesterol Foods:\n",
      "                                                   name cholesterol\n",
      "1                                          Nuts, pecans           0\n",
      "3                                        Teff, uncooked           0\n",
      "4                                       Sherbet, orange         1mg\n",
      "5                                      Cauliflower, raw           0\n",
      "6                                      Taro leaves, raw           0\n",
      "...                                                 ...         ...\n",
      "8761  Margarine, for flaky pastries, soy oil (partia...           0\n",
      "8767  Toddler formula, ready-to-feed, ENFAGROW PREMI...         1mg\n",
      "8770  Infant formula, with ARA and DHA, SENSITIVE (L...         2mg\n",
      "8771  Infant formula, not reconstituted, liquid conc...           0\n",
      "8782  Oil, uses similar to 95 degree hard butter, co...           0\n",
      "\n",
      "[3107 rows x 2 columns]\n"
     ]
    }
   ],
   "source": [
    "# Convert 'protein' and 'cholesterol' columns to strings if they are not already in string format\n",
    "data['protein'] = data['protein'].astype(str)\n",
    "data['cholesterol'] = data['cholesterol'].astype(str)\n",
    "\n",
    "# Filtering high protein foods (assuming 'protein' column represents protein content)\n",
    "high_protein_foods = data[data['protein'].str.replace('g', '').astype(float) > 2]\n",
    "\n",
    "# Filtering low cholesterol foods (assuming 'cholesterol' column represents cholesterol content)\n",
    "low_cholesterol_foods = data[data['cholesterol'].str.replace('mg', '').astype(float) < 5]\n",
    "\n",
    "# Display high protein foods\n",
    "print(\"High Protein Foods:\")\n",
    "print(high_protein_foods[['name', 'protein']])\n",
    "\n",
    "# Display low cholesterol foods\n",
    "print(\"\\nLow Cholesterol Foods:\")\n",
    "print(low_cholesterol_foods[['name', 'cholesterol']])\n"
   ]
  },
  {
   "cell_type": "code",
   "execution_count": 71,
   "id": "b7096eaa",
   "metadata": {},
   "outputs": [
    {
     "name": "stdout",
     "output_type": "stream",
     "text": [
      "               name  protein\n",
      "1      Nuts, pecans   9.17 g\n",
      "3    Teff, uncooked  13.30 g\n",
      "4   Sherbet, orange   1.10 g\n",
      "5  Cauliflower, raw   1.92 g\n",
      "6  Taro leaves, raw   4.98 g\n"
     ]
    }
   ],
   "source": [
    "print(data[['name', 'protein']].head())\n"
   ]
  },
  {
   "cell_type": "code",
   "execution_count": 72,
   "id": "583e1fad",
   "metadata": {},
   "outputs": [],
   "source": [
    "!git add .\n"
   ]
  },
  {
   "cell_type": "code",
   "execution_count": 73,
   "id": "7dbf7216",
   "metadata": {},
   "outputs": [
    {
     "name": "stdout",
     "output_type": "stream",
     "text": [
      "[main 2cdc780] 'protein' and 'cholesterol'\n",
      " 1 file changed, 81 insertions(+), 70 deletions(-)\n"
     ]
    }
   ],
   "source": [
    "!git commit -m \"'protein' and 'cholesterol'\""
   ]
  },
  {
   "cell_type": "code",
   "execution_count": 74,
   "id": "104eaeff",
   "metadata": {},
   "outputs": [
    {
     "name": "stdout",
     "output_type": "stream",
     "text": [
      "Enumerating objects: 5, done.\n",
      "Counting objects: 100% (5/5), done.\n",
      "Delta compression using up to 8 threads\n",
      "Compressing objects: 100% (3/3), done.\n",
      "Writing objects: 100% (3/3), 1.52 KiB | 779.00 KiB/s, done.\n",
      "Total 3 (delta 1), reused 0 (delta 0), pack-reused 0\n",
      "remote: Resolving deltas: 100% (1/1), completed with 1 local object.\u001b[K\n",
      "To https://github.com/Yakshita1802/CS-661-Python-Programming-Final-Project_NutriGuide---Comprehensive-Nutrition-Finder.git\n",
      "   b3a3fe3..2cdc780  main -> main\n"
     ]
    }
   ],
   "source": [
    "!git push origin main\n"
   ]
  },
  {
   "cell_type": "code",
   "execution_count": null,
   "id": "f1577a9f",
   "metadata": {},
   "outputs": [],
   "source": []
  },
  {
   "cell_type": "code",
   "execution_count": null,
   "id": "054ac36b",
   "metadata": {},
   "outputs": [],
   "source": []
  },
  {
   "cell_type": "code",
   "execution_count": null,
   "id": "45991321",
   "metadata": {},
   "outputs": [],
   "source": []
  }
 ],
 "metadata": {
  "kernelspec": {
   "display_name": "Python 3 (ipykernel)",
   "language": "python",
   "name": "python3"
  },
  "language_info": {
   "codemirror_mode": {
    "name": "ipython",
    "version": 3
   },
   "file_extension": ".py",
   "mimetype": "text/x-python",
   "name": "python",
   "nbconvert_exporter": "python",
   "pygments_lexer": "ipython3",
   "version": "3.11.4"
  }
 },
 "nbformat": 4,
 "nbformat_minor": 5
}
