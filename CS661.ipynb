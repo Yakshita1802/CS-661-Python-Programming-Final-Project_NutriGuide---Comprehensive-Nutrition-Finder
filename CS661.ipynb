{
 "cells": [
  {
   "cell_type": "code",
   "execution_count": 42,
   "id": "c6f6d248",
   "metadata": {},
   "outputs": [],
   "source": [
    "#CS-661 Python Programming Final Project – Fall 2023 73599\n",
    "\n",
    "\n",
    "## Team Members:\n",
    "\n",
    "#-Yakshita Rakholiya:-\t\t\t(U01875270)\n",
    "#- Bansariben Sorathiya:-\t\t(U01874134)\n",
    "#- Dhruv Ranparya:-\t\t\t\t(U01880534)\n",
    "#- Somil Saparia:-\t\t\t\t(U01876683)\n",
    "#- Fnu Pariva:-\t\t\t\t\t(U01871870)\n",
    "#- Jinit Desai:-\t\t\t\t(U01850641)\n",
    "#- Kunj Patel:-\t\t\t\t\t(U01869538)\n",
    "\n"
   ]
  },
  {
   "cell_type": "markdown",
   "id": "4b8427a1",
   "metadata": {},
   "source": [
    "# Project Overview:\n",
    "    NutriGuide is a comprehensive nutrition-based application designed to assist users in making informed dietary choices by providing detailed nutritional information. This application aims to categorize various foods based on their protein content, cholesterol levels, good fats, calorie count, fiber content, vitamins, and more. NutriGuide empowers users to select foods aligned with their specific dietary requirements and health goals.\n"
   ]
  },
  {
   "cell_type": "code",
   "execution_count": 43,
   "id": "305414df",
   "metadata": {},
   "outputs": [],
   "source": [
    "# importing necessary libraries"
   ]
  },
  {
   "cell_type": "code",
   "execution_count": 44,
   "id": "a74a4b57",
   "metadata": {},
   "outputs": [],
   "source": [
    "# os: This module in Python provides a portable way to interact with the operating system. It allows you to perform operating system-dependent functions, such as manipulating paths, directories, and executing system commands.\n",
    "import os"
   ]
  },
  {
   "cell_type": "code",
   "execution_count": 45,
   "id": "e65ce007",
   "metadata": {},
   "outputs": [],
   "source": [
    "# pandas as pd: Pandas is a powerful data manipulation library in Python used for data analysis. It provides data structures like DataFrame and Series, along with functions to clean, transform, and analyze data. Renaming pandas as pd is a common convention to simplify code.\n",
    "import pandas as pd"
   ]
  },
  {
   "cell_type": "code",
   "execution_count": 46,
   "id": "75bc13d7",
   "metadata": {},
   "outputs": [],
   "source": [
    "# numpy as np: NumPy is a fundamental package for scientific computing in Python. It provides support for multidimensional arrays, mathematical functions, random number generation, linear algebra, and more. It's often used in combination with Pandas for numerical computations.\n",
    "import numpy as np"
   ]
  },
  {
   "cell_type": "code",
   "execution_count": 47,
   "id": "60bd6041",
   "metadata": {},
   "outputs": [],
   "source": [
    "# matplotlib.pyplot as plt: Matplotlib is a plotting library in Python used to create static, interactive, and animated visualizations. pyplot is a module within Matplotlib that provides a MATLAB-like interface for creating plots and visualizations in Python scripts. Renaming matplotlib.pyplot as plt is a common convention to simplify plotting commands.\n",
    "import matplotlib.pyplot as plt"
   ]
  },
  {
   "cell_type": "code",
   "execution_count": 49,
   "id": "50838661",
   "metadata": {},
   "outputs": [],
   "source": [
    "# importing data"
   ]
  },
  {
   "cell_type": "code",
   "execution_count": 50,
   "id": "1f7d412c",
   "metadata": {},
   "outputs": [],
   "source": [
    "file_path = 'nutrition.csv'"
   ]
  },
  {
   "cell_type": "code",
   "execution_count": 51,
   "id": "cd79dffe",
   "metadata": {},
   "outputs": [],
   "source": [
    "# Load the data from the CSV file into a DataFrame"
   ]
  },
  {
   "cell_type": "code",
   "execution_count": 52,
   "id": "aea8575e",
   "metadata": {},
   "outputs": [],
   "source": [
    "data = pd.read_csv(file_path)"
   ]
  },
  {
   "cell_type": "code",
   "execution_count": 53,
   "id": "9262eaf9",
   "metadata": {},
   "outputs": [],
   "source": [
    "# Display the first few rows of the dataset to check if it's imported correctly"
   ]
  },
  {
   "cell_type": "code",
   "execution_count": 54,
   "id": "d04b817d",
   "metadata": {},
   "outputs": [
    {
     "data": {
      "text/html": [
       "<div>\n",
       "<style scoped>\n",
       "    .dataframe tbody tr th:only-of-type {\n",
       "        vertical-align: middle;\n",
       "    }\n",
       "\n",
       "    .dataframe tbody tr th {\n",
       "        vertical-align: top;\n",
       "    }\n",
       "\n",
       "    .dataframe thead th {\n",
       "        text-align: right;\n",
       "    }\n",
       "</style>\n",
       "<table border=\"1\" class=\"dataframe\">\n",
       "  <thead>\n",
       "    <tr style=\"text-align: right;\">\n",
       "      <th></th>\n",
       "      <th>Unnamed: 0</th>\n",
       "      <th>name</th>\n",
       "      <th>serving_size</th>\n",
       "      <th>calories</th>\n",
       "      <th>total_fat</th>\n",
       "      <th>saturated_fat</th>\n",
       "      <th>cholesterol</th>\n",
       "      <th>sodium</th>\n",
       "      <th>choline</th>\n",
       "      <th>folate</th>\n",
       "      <th>...</th>\n",
       "      <th>fat</th>\n",
       "      <th>saturated_fatty_acids</th>\n",
       "      <th>monounsaturated_fatty_acids</th>\n",
       "      <th>polyunsaturated_fatty_acids</th>\n",
       "      <th>fatty_acids_total_trans</th>\n",
       "      <th>alcohol</th>\n",
       "      <th>ash</th>\n",
       "      <th>caffeine</th>\n",
       "      <th>theobromine</th>\n",
       "      <th>water</th>\n",
       "    </tr>\n",
       "  </thead>\n",
       "  <tbody>\n",
       "    <tr>\n",
       "      <th>0</th>\n",
       "      <td>0</td>\n",
       "      <td>Cornstarch</td>\n",
       "      <td>100 g</td>\n",
       "      <td>381</td>\n",
       "      <td>0.1g</td>\n",
       "      <td>NaN</td>\n",
       "      <td>0</td>\n",
       "      <td>9.00 mg</td>\n",
       "      <td>0.4 mg</td>\n",
       "      <td>0.00 mcg</td>\n",
       "      <td>...</td>\n",
       "      <td>0.05 g</td>\n",
       "      <td>0.009 g</td>\n",
       "      <td>0.016 g</td>\n",
       "      <td>0.025 g</td>\n",
       "      <td>0.00 mg</td>\n",
       "      <td>0.0 g</td>\n",
       "      <td>0.09 g</td>\n",
       "      <td>0.00 mg</td>\n",
       "      <td>0.00 mg</td>\n",
       "      <td>8.32 g</td>\n",
       "    </tr>\n",
       "    <tr>\n",
       "      <th>1</th>\n",
       "      <td>1</td>\n",
       "      <td>Nuts, pecans</td>\n",
       "      <td>100 g</td>\n",
       "      <td>691</td>\n",
       "      <td>72g</td>\n",
       "      <td>6.2g</td>\n",
       "      <td>0</td>\n",
       "      <td>0.00 mg</td>\n",
       "      <td>40.5 mg</td>\n",
       "      <td>22.00 mcg</td>\n",
       "      <td>...</td>\n",
       "      <td>71.97 g</td>\n",
       "      <td>6.180 g</td>\n",
       "      <td>40.801 g</td>\n",
       "      <td>21.614 g</td>\n",
       "      <td>0.00 mg</td>\n",
       "      <td>0.0 g</td>\n",
       "      <td>1.49 g</td>\n",
       "      <td>0.00 mg</td>\n",
       "      <td>0.00 mg</td>\n",
       "      <td>3.52 g</td>\n",
       "    </tr>\n",
       "    <tr>\n",
       "      <th>2</th>\n",
       "      <td>2</td>\n",
       "      <td>Eggplant, raw</td>\n",
       "      <td>100 g</td>\n",
       "      <td>25</td>\n",
       "      <td>0.2g</td>\n",
       "      <td>NaN</td>\n",
       "      <td>0</td>\n",
       "      <td>2.00 mg</td>\n",
       "      <td>6.9 mg</td>\n",
       "      <td>22.00 mcg</td>\n",
       "      <td>...</td>\n",
       "      <td>0.18 g</td>\n",
       "      <td>0.034 g</td>\n",
       "      <td>0.016 g</td>\n",
       "      <td>0.076 g</td>\n",
       "      <td>0.00 mg</td>\n",
       "      <td>0.0 g</td>\n",
       "      <td>0.66 g</td>\n",
       "      <td>0.00 mg</td>\n",
       "      <td>0.00 mg</td>\n",
       "      <td>92.30 g</td>\n",
       "    </tr>\n",
       "    <tr>\n",
       "      <th>3</th>\n",
       "      <td>3</td>\n",
       "      <td>Teff, uncooked</td>\n",
       "      <td>100 g</td>\n",
       "      <td>367</td>\n",
       "      <td>2.4g</td>\n",
       "      <td>0.4g</td>\n",
       "      <td>0</td>\n",
       "      <td>12.00 mg</td>\n",
       "      <td>13.1 mg</td>\n",
       "      <td>0</td>\n",
       "      <td>...</td>\n",
       "      <td>2.38 g</td>\n",
       "      <td>0.449 g</td>\n",
       "      <td>0.589 g</td>\n",
       "      <td>1.071 g</td>\n",
       "      <td>0</td>\n",
       "      <td>0</td>\n",
       "      <td>2.37 g</td>\n",
       "      <td>0</td>\n",
       "      <td>0</td>\n",
       "      <td>8.82 g</td>\n",
       "    </tr>\n",
       "    <tr>\n",
       "      <th>4</th>\n",
       "      <td>4</td>\n",
       "      <td>Sherbet, orange</td>\n",
       "      <td>100 g</td>\n",
       "      <td>144</td>\n",
       "      <td>2g</td>\n",
       "      <td>1.2g</td>\n",
       "      <td>1mg</td>\n",
       "      <td>46.00 mg</td>\n",
       "      <td>7.7 mg</td>\n",
       "      <td>4.00 mcg</td>\n",
       "      <td>...</td>\n",
       "      <td>2.00 g</td>\n",
       "      <td>1.160 g</td>\n",
       "      <td>0.530 g</td>\n",
       "      <td>0.080 g</td>\n",
       "      <td>1.00 mg</td>\n",
       "      <td>0.0 g</td>\n",
       "      <td>0.40 g</td>\n",
       "      <td>0.00 mg</td>\n",
       "      <td>0.00 mg</td>\n",
       "      <td>66.10 g</td>\n",
       "    </tr>\n",
       "  </tbody>\n",
       "</table>\n",
       "<p>5 rows × 77 columns</p>\n",
       "</div>"
      ],
      "text/plain": [
       "   Unnamed: 0             name serving_size  calories total_fat saturated_fat  \\\n",
       "0           0       Cornstarch        100 g       381      0.1g           NaN   \n",
       "1           1     Nuts, pecans        100 g       691       72g          6.2g   \n",
       "2           2    Eggplant, raw        100 g        25      0.2g           NaN   \n",
       "3           3   Teff, uncooked        100 g       367      2.4g          0.4g   \n",
       "4           4  Sherbet, orange        100 g       144        2g          1.2g   \n",
       "\n",
       "  cholesterol    sodium  choline     folate  ...      fat  \\\n",
       "0           0   9.00 mg   0.4 mg   0.00 mcg  ...   0.05 g   \n",
       "1           0   0.00 mg  40.5 mg  22.00 mcg  ...  71.97 g   \n",
       "2           0   2.00 mg   6.9 mg  22.00 mcg  ...   0.18 g   \n",
       "3           0  12.00 mg  13.1 mg          0  ...   2.38 g   \n",
       "4         1mg  46.00 mg   7.7 mg   4.00 mcg  ...   2.00 g   \n",
       "\n",
       "  saturated_fatty_acids monounsaturated_fatty_acids  \\\n",
       "0               0.009 g                     0.016 g   \n",
       "1               6.180 g                    40.801 g   \n",
       "2               0.034 g                     0.016 g   \n",
       "3               0.449 g                     0.589 g   \n",
       "4               1.160 g                     0.530 g   \n",
       "\n",
       "  polyunsaturated_fatty_acids fatty_acids_total_trans alcohol     ash  \\\n",
       "0                     0.025 g                 0.00 mg   0.0 g  0.09 g   \n",
       "1                    21.614 g                 0.00 mg   0.0 g  1.49 g   \n",
       "2                     0.076 g                 0.00 mg   0.0 g  0.66 g   \n",
       "3                     1.071 g                       0       0  2.37 g   \n",
       "4                     0.080 g                 1.00 mg   0.0 g  0.40 g   \n",
       "\n",
       "  caffeine theobromine    water  \n",
       "0  0.00 mg     0.00 mg   8.32 g  \n",
       "1  0.00 mg     0.00 mg   3.52 g  \n",
       "2  0.00 mg     0.00 mg  92.30 g  \n",
       "3        0           0   8.82 g  \n",
       "4  0.00 mg     0.00 mg  66.10 g  \n",
       "\n",
       "[5 rows x 77 columns]"
      ]
     },
     "execution_count": 54,
     "metadata": {},
     "output_type": "execute_result"
    }
   ],
   "source": [
    "data.head()"
   ]
  },
  {
   "cell_type": "code",
   "execution_count": 55,
   "id": "4d6a6fe7",
   "metadata": {},
   "outputs": [],
   "source": [
    "# Check basic information about the dataset"
   ]
  },
  {
   "cell_type": "code",
   "execution_count": 56,
   "id": "9e48503b",
   "metadata": {},
   "outputs": [
    {
     "name": "stdout",
     "output_type": "stream",
     "text": [
      "<class 'pandas.core.frame.DataFrame'>\n",
      "RangeIndex: 8789 entries, 0 to 8788\n",
      "Data columns (total 77 columns):\n",
      " #   Column                       Non-Null Count  Dtype \n",
      "---  ------                       --------------  ----- \n",
      " 0   Unnamed: 0                   8789 non-null   int64 \n",
      " 1   name                         8789 non-null   object\n",
      " 2   serving_size                 8789 non-null   object\n",
      " 3   calories                     8789 non-null   int64 \n",
      " 4   total_fat                    8789 non-null   object\n",
      " 5   saturated_fat                7199 non-null   object\n",
      " 6   cholesterol                  8789 non-null   object\n",
      " 7   sodium                       8789 non-null   object\n",
      " 8   choline                      8789 non-null   object\n",
      " 9   folate                       8789 non-null   object\n",
      " 10  folic_acid                   8789 non-null   object\n",
      " 11  niacin                       8789 non-null   object\n",
      " 12  pantothenic_acid             8789 non-null   object\n",
      " 13  riboflavin                   8789 non-null   object\n",
      " 14  thiamin                      8789 non-null   object\n",
      " 15  vitamin_a                    8789 non-null   object\n",
      " 16  vitamin_a_rae                8789 non-null   object\n",
      " 17  carotene_alpha               8789 non-null   object\n",
      " 18  carotene_beta                8789 non-null   object\n",
      " 19  cryptoxanthin_beta           8789 non-null   object\n",
      " 20  lutein_zeaxanthin            8789 non-null   object\n",
      " 21  lucopene                     8789 non-null   int64 \n",
      " 22  vitamin_b12                  8789 non-null   object\n",
      " 23  vitamin_b6                   8789 non-null   object\n",
      " 24  vitamin_c                    8789 non-null   object\n",
      " 25  vitamin_d                    8789 non-null   object\n",
      " 26  vitamin_e                    8789 non-null   object\n",
      " 27  tocopherol_alpha             8789 non-null   object\n",
      " 28  vitamin_k                    8789 non-null   object\n",
      " 29  calcium                      8789 non-null   object\n",
      " 30  copper                       8789 non-null   object\n",
      " 31  irom                         8789 non-null   object\n",
      " 32  magnesium                    8789 non-null   object\n",
      " 33  manganese                    8789 non-null   object\n",
      " 34  phosphorous                  8789 non-null   object\n",
      " 35  potassium                    8789 non-null   object\n",
      " 36  selenium                     8789 non-null   object\n",
      " 37  zink                         8789 non-null   object\n",
      " 38  protein                      8789 non-null   object\n",
      " 39  alanine                      8789 non-null   object\n",
      " 40  arginine                     8789 non-null   object\n",
      " 41  aspartic_acid                8789 non-null   object\n",
      " 42  cystine                      8789 non-null   object\n",
      " 43  glutamic_acid                8789 non-null   object\n",
      " 44  glycine                      8789 non-null   object\n",
      " 45  histidine                    8789 non-null   object\n",
      " 46  hydroxyproline               8789 non-null   object\n",
      " 47  isoleucine                   8789 non-null   object\n",
      " 48  leucine                      8789 non-null   object\n",
      " 49  lysine                       8789 non-null   object\n",
      " 50  methionine                   8789 non-null   object\n",
      " 51  phenylalanine                8789 non-null   object\n",
      " 52  proline                      8789 non-null   object\n",
      " 53  serine                       8789 non-null   object\n",
      " 54  threonine                    8789 non-null   object\n",
      " 55  tryptophan                   8789 non-null   object\n",
      " 56  tyrosine                     8789 non-null   object\n",
      " 57  valine                       8789 non-null   object\n",
      " 58  carbohydrate                 8789 non-null   object\n",
      " 59  fiber                        8789 non-null   object\n",
      " 60  sugars                       8789 non-null   object\n",
      " 61  fructose                     8789 non-null   object\n",
      " 62  galactose                    8789 non-null   object\n",
      " 63  glucose                      8789 non-null   object\n",
      " 64  lactose                      8789 non-null   object\n",
      " 65  maltose                      8789 non-null   object\n",
      " 66  sucrose                      8789 non-null   object\n",
      " 67  fat                          8789 non-null   object\n",
      " 68  saturated_fatty_acids        8789 non-null   object\n",
      " 69  monounsaturated_fatty_acids  8789 non-null   object\n",
      " 70  polyunsaturated_fatty_acids  8789 non-null   object\n",
      " 71  fatty_acids_total_trans      8789 non-null   object\n",
      " 72  alcohol                      8789 non-null   object\n",
      " 73  ash                          8789 non-null   object\n",
      " 74  caffeine                     8789 non-null   object\n",
      " 75  theobromine                  8789 non-null   object\n",
      " 76  water                        8789 non-null   object\n",
      "dtypes: int64(3), object(74)\n",
      "memory usage: 5.2+ MB\n"
     ]
    }
   ],
   "source": [
    "data.info()"
   ]
  },
  {
   "cell_type": "code",
   "execution_count": 57,
   "id": "6c5b4f6a",
   "metadata": {},
   "outputs": [],
   "source": [
    "# Display summary statistics"
   ]
  },
  {
   "cell_type": "code",
   "execution_count": 58,
   "id": "0150b478",
   "metadata": {},
   "outputs": [
    {
     "data": {
      "text/html": [
       "<div>\n",
       "<style scoped>\n",
       "    .dataframe tbody tr th:only-of-type {\n",
       "        vertical-align: middle;\n",
       "    }\n",
       "\n",
       "    .dataframe tbody tr th {\n",
       "        vertical-align: top;\n",
       "    }\n",
       "\n",
       "    .dataframe thead th {\n",
       "        text-align: right;\n",
       "    }\n",
       "</style>\n",
       "<table border=\"1\" class=\"dataframe\">\n",
       "  <thead>\n",
       "    <tr style=\"text-align: right;\">\n",
       "      <th></th>\n",
       "      <th>Unnamed: 0</th>\n",
       "      <th>calories</th>\n",
       "      <th>lucopene</th>\n",
       "    </tr>\n",
       "  </thead>\n",
       "  <tbody>\n",
       "    <tr>\n",
       "      <th>count</th>\n",
       "      <td>8789.000000</td>\n",
       "      <td>8789.000000</td>\n",
       "      <td>8789.0</td>\n",
       "    </tr>\n",
       "    <tr>\n",
       "      <th>mean</th>\n",
       "      <td>4394.000000</td>\n",
       "      <td>226.283878</td>\n",
       "      <td>0.0</td>\n",
       "    </tr>\n",
       "    <tr>\n",
       "      <th>std</th>\n",
       "      <td>2537.310091</td>\n",
       "      <td>169.862001</td>\n",
       "      <td>0.0</td>\n",
       "    </tr>\n",
       "    <tr>\n",
       "      <th>min</th>\n",
       "      <td>0.000000</td>\n",
       "      <td>0.000000</td>\n",
       "      <td>0.0</td>\n",
       "    </tr>\n",
       "    <tr>\n",
       "      <th>25%</th>\n",
       "      <td>2197.000000</td>\n",
       "      <td>91.000000</td>\n",
       "      <td>0.0</td>\n",
       "    </tr>\n",
       "    <tr>\n",
       "      <th>50%</th>\n",
       "      <td>4394.000000</td>\n",
       "      <td>191.000000</td>\n",
       "      <td>0.0</td>\n",
       "    </tr>\n",
       "    <tr>\n",
       "      <th>75%</th>\n",
       "      <td>6591.000000</td>\n",
       "      <td>337.000000</td>\n",
       "      <td>0.0</td>\n",
       "    </tr>\n",
       "    <tr>\n",
       "      <th>max</th>\n",
       "      <td>8788.000000</td>\n",
       "      <td>902.000000</td>\n",
       "      <td>0.0</td>\n",
       "    </tr>\n",
       "  </tbody>\n",
       "</table>\n",
       "</div>"
      ],
      "text/plain": [
       "        Unnamed: 0     calories  lucopene\n",
       "count  8789.000000  8789.000000    8789.0\n",
       "mean   4394.000000   226.283878       0.0\n",
       "std    2537.310091   169.862001       0.0\n",
       "min       0.000000     0.000000       0.0\n",
       "25%    2197.000000    91.000000       0.0\n",
       "50%    4394.000000   191.000000       0.0\n",
       "75%    6591.000000   337.000000       0.0\n",
       "max    8788.000000   902.000000       0.0"
      ]
     },
     "execution_count": 58,
     "metadata": {},
     "output_type": "execute_result"
    }
   ],
   "source": [
    "data.describe()"
   ]
  },
  {
   "cell_type": "code",
   "execution_count": 59,
   "id": "897f0385",
   "metadata": {},
   "outputs": [],
   "source": [
    "# Handling missing values (if any)"
   ]
  },
  {
   "cell_type": "code",
   "execution_count": 60,
   "id": "e0baae88",
   "metadata": {},
   "outputs": [],
   "source": [
    "data.dropna(inplace=True)"
   ]
  },
  {
   "cell_type": "code",
   "execution_count": 61,
   "id": "4f78f91b",
   "metadata": {},
   "outputs": [],
   "source": [
    "# Generates a histogram that visualizes the distribution of calories in different food items."
   ]
  },
  {
   "cell_type": "code",
   "execution_count": 62,
   "id": "7ae2a4dc",
   "metadata": {},
   "outputs": [
    {
     "data": {
      "image/png": "[encoded data removed]",
      "text/plain": [
       "<Figure size 640x480 with 1 Axes>"
      ]
     },
     "metadata": {},
     "output_type": "display_data"
    }
   ],
   "source": [
    "plt.hist(data['calories'])\n",
    "plt.title('Distribution of Calories in Foods')\n",
    "plt.xlabel('Calories')\n",
    "plt.ylabel('Frequency')\n",
    "plt.show()\n"
   ]
  },
  {
   "cell_type": "code",
   "execution_count": 63,
   "id": "de877566",
   "metadata": {},
   "outputs": [],
   "source": [
    "!git add ."
   ]
  },
  {
   "cell_type": "code",
   "execution_count": 64,
   "id": "39cd26d5",
   "metadata": {},
   "outputs": [
    {
     "name": "stdout",
     "output_type": "stream",
     "text": [
      "[main b3a3fe3] importing necessary libraries Implemented data import and initial exploration from nutrition.csv\n",
      " 1 file changed, 396 insertions(+), 41 deletions(-)\n"
     ]
    }
   ],
   "source": [
    "!git commit -m \"importing necessary libraries Implemented data import and initial exploration from nutrition.csv\""
   ]
  },
  {
   "cell_type": "code",
   "execution_count": 65,
   "id": "ff579bab",
   "metadata": {},
   "outputs": [
    {
     "name": "stdout",
     "output_type": "stream",
     "text": [
      "Enumerating objects: 5, done.\n",
      "Counting objects: 100% (5/5), done.\n",
      "Delta compression using up to 8 threads\n",
      "Compressing objects: 100% (3/3), done.\n",
      "Writing objects: 100% (3/3), 2.75 KiB | 563.00 KiB/s, done.\n",
      "Total 3 (delta 1), reused 0 (delta 0), pack-reused 0\n",
      "remote: Resolving deltas: 100% (1/1), completed with 1 local object.\u001b[K\n",
      "To https://github.com/Yakshita1802/CS-661-Python-Programming-Final-Project_NutriGuide---Comprehensive-Nutrition-Finder.git\n",
      "   830ce1d..b3a3fe3  main -> main\n"
     ]
    }
   ],
   "source": [
    "!git push origin main"
   ]
  },
  {
   "cell_type": "code",
   "execution_count": 66,
   "id": "b22f6946",
   "metadata": {},
   "outputs": [
    {
     "name": "stdout",
     "output_type": "stream",
     "text": [
      "        Unnamed: 0     calories  lucopene\n",
      "count  7199.000000  7199.000000    7199.0\n",
      "mean   4599.422003   255.973330       0.0\n",
      "std    2557.642163   166.281991       0.0\n",
      "min       1.000000     4.000000       0.0\n",
      "25%    2376.500000   130.000000       0.0\n",
      "50%    4727.000000   221.000000       0.0\n",
      "75%    6863.500000   361.000000       0.0\n",
      "max    8788.000000   902.000000       0.0\n"
     ]
    }
   ],
   "source": [
    "# Summary statistics for numerical columns\n",
    "summary_stats = data.describe()\n",
    "print(summary_stats)\n"
   ]
  },
  {
   "cell_type": "code",
   "execution_count": 67,
   "id": "ac4b2d6c",
   "metadata": {},
   "outputs": [
    {
     "name": "stdout",
     "output_type": "stream",
     "text": [
      "          calories\n",
      "count  7199.000000\n",
      "mean    255.973330\n",
      "std     166.281991\n",
      "min       4.000000\n",
      "25%     130.000000\n",
      "50%     221.000000\n",
      "75%     361.000000\n",
      "max     902.000000\n"
     ]
    }
   ],
   "source": [
    "# Statistical analysis\n",
    "selected_columns = ['calories', 'total_fat', 'cholesterol', 'sodium']\n",
    "stats_selected = data[selected_columns].describe()\n",
    "print(stats_selected)\n"
   ]
  },
  {
   "cell_type": "code",
   "execution_count": 68,
   "id": "e8745a70",
   "metadata": {},
   "outputs": [
    {
     "data": {
      "image/png": "[encoded data removed]",
      "text/plain": [
       "<Figure size 1200x800 with 1 Axes>"
      ]
     },
     "metadata": {},
     "output_type": "display_data"
    },
    {
     "data": {
      "image/png": "[encoded data removed]",
      "text/plain": [
       "<Figure size 800x600 with 1 Axes>"
      ]
     },
     "metadata": {},
     "output_type": "display_data"
    }
   ],
   "source": [
    "# Histograms for specific columns\n",
    "data[selected_columns].hist(bins=20, figsize=(12, 8))\n",
    "plt.suptitle('Histograms for Calories, Total Fat, Cholesterol, Sodium')\n",
    "plt.show()\n",
    "\n",
    "# Scatter plot for Total Fat vs. Cholesterol\n",
    "plt.figure(figsize=(8, 6))\n",
    "plt.scatter(data['total_fat'], data['cholesterol'])\n",
    "plt.title('Total Fat vs. Cholesterol')\n",
    "plt.xlabel('Total Fat')\n",
    "plt.ylabel('Cholesterol')\n",
    "plt.grid(True)\n",
    "plt.show()\n"
   ]
  },
  {
   "cell_type": "code",
   "execution_count": 69,
   "id": "b17e511c",
   "metadata": {},
   "outputs": [
    {
     "name": "stdout",
     "output_type": "stream",
     "text": [
      "      Unnamed: 0                                 name serving_size  calories  \\\n",
      "1019        1019           Game meat, raw, wild, boar        100 g       122   \n",
      "1265        1265              Octopus (Alaska Native)        100 g        56   \n",
      "1389        1389  Seal, liver (Alaska Native), ringed        100 g       116   \n",
      "1422        1422   WENDY'S, with cheese, Double Stack        100 g       285   \n",
      "1533        1533    Walrus, raw (Alaska Native), meat        100 g       199   \n",
      "\n",
      "     total_fat saturated_fat cholesterol  sodium choline folate  ...      fat  \\\n",
      "1019      3.3g            1g           0     0.0       0      0  ...   3.33 g   \n",
      "1265      0.8g          0.2g        41mg     0.0       0      0  ...   0.80 g   \n",
      "1389      3.3g          1.2g           0     0.0       0      0  ...   3.30 g   \n",
      "1422       17g          6.9g           0     0.0       0      0  ...  16.60 g   \n",
      "1533       14g          2.6g        80mg     0.0       0      0  ...  13.60 g   \n",
      "\n",
      "     saturated_fatty_acids monounsaturated_fatty_acids  \\\n",
      "1019               0.990 g                     1.300 g   \n",
      "1265               0.200 g                           0   \n",
      "1389               1.170 g                     1.100 g   \n",
      "1422               6.851 g                     7.268 g   \n",
      "1533               2.570 g                     8.420 g   \n",
      "\n",
      "     polyunsaturated_fatty_acids fatty_acids_total_trans alcohol     ash  \\\n",
      "1019                     0.480 g                       0       0  0.97 g   \n",
      "1265                     0.200 g                41.00 mg       0  1.50 g   \n",
      "1389                     1.030 g                       0       0  1.00 g   \n",
      "1422                     1.264 g                       0       0  1.94 g   \n",
      "1533                     2.600 g                80.00 mg       0  2.10 g   \n",
      "\n",
      "     caffeine theobromine    water  \n",
      "1019        0           0  72.54 g  \n",
      "1265        0           0  84.00 g  \n",
      "1389        0           0  74.20 g  \n",
      "1422        0           0  47.58 g  \n",
      "1533        0           0  65.10 g  \n",
      "\n",
      "[5 rows x 77 columns]\n"
     ]
    }
   ],
   "source": [
    "# Convert 'calories' and 'sodium' columns to numeric type\n",
    "data['calories'] = pd.to_numeric(data['calories'], errors='coerce')\n",
    "data['sodium'] = pd.to_numeric(data['sodium'], errors='coerce')\n",
    "\n",
    "# Filtering data based on conditions\n",
    "filtered_data = data[(data['calories'] > 50) & (data['sodium'] < 10)]\n",
    "print(filtered_data.head())\n"
   ]
  },
  {
   "cell_type": "code",
   "execution_count": 70,
   "id": "ce7d7c00",
   "metadata": {},
   "outputs": [
    {
     "name": "stdout",
     "output_type": "stream",
     "text": [
      "High Protein Foods:\n",
      "                                                   name  protein\n",
      "1                                          Nuts, pecans   9.17 g\n",
      "3                                        Teff, uncooked  13.30 g\n",
      "6                                      Taro leaves, raw   4.98 g\n",
      "7                                     Lamb, raw, ground  16.56 g\n",
      "8                                     Cheese, camembert  19.80 g\n",
      "...                                                 ...      ...\n",
      "8784  Beef, raw, all grades, trimmed to 0\" fat, sepa...  23.45 g\n",
      "8785  Lamb, cooked, separable lean only, composite o...  29.59 g\n",
      "8786  Lamb, raw, separable lean and fat, composite o...  16.74 g\n",
      "8787  Beef, raw, all grades, trimmed to 0\" fat, sepa...  23.37 g\n",
      "8788  Beef, raw, all grades, trimmed to 0\" fat, sepa...  23.37 g\n",
      "\n",
      "[6392 rows x 2 columns]\n",
      "\n",
      "Low Cholesterol Foods:\n",
      "                                                   name cholesterol\n",
      "1                                          Nuts, pecans           0\n",
      "3                                        Teff, uncooked           0\n",
      "4                                       Sherbet, orange         1mg\n",
      "5                                      Cauliflower, raw           0\n",
      "6                                      Taro leaves, raw           0\n",
      "...                                                 ...         ...\n",
      "8761  Margarine, for flaky pastries, soy oil (partia...           0\n",
      "8767  Toddler formula, ready-to-feed, ENFAGROW PREMI...         1mg\n",
      "8770  Infant formula, with ARA and DHA, SENSITIVE (L...         2mg\n",
      "8771  Infant formula, not reconstituted, liquid conc...           0\n",
      "8782  Oil, uses similar to 95 degree hard butter, co...           0\n",
      "\n",
      "[3107 rows x 2 columns]\n"
     ]
    }
   ],
   "source": [
    "# Convert 'protein' and 'cholesterol' columns to strings if they are not already in string format\n",
    "data['protein'] = data['protein'].astype(str)\n",
    "data['cholesterol'] = data['cholesterol'].astype(str)\n",
    "\n",
    "# Filtering high protein foods (assuming 'protein' column represents protein content)\n",
    "high_protein_foods = data[data['protein'].str.replace('g', '').astype(float) > 2]\n",
    "\n",
    "# Filtering low cholesterol foods (assuming 'cholesterol' column represents cholesterol content)\n",
    "low_cholesterol_foods = data[data['cholesterol'].str.replace('mg', '').astype(float) < 5]\n",
    "\n",
    "# Display high protein foods\n",
    "print(\"High Protein Foods:\")\n",
    "print(high_protein_foods[['name', 'protein']])\n",
    "\n",
    "# Display low cholesterol foods\n",
    "print(\"\\nLow Cholesterol Foods:\")\n",
    "print(low_cholesterol_foods[['name', 'cholesterol']])\n"
   ]
  },
  {
   "cell_type": "code",
   "execution_count": 27,
   "id": "13aa33f0",
   "metadata": {},
   "outputs": [
    {
     "name": "stdout",
     "output_type": "stream",
     "text": [
      "               name protein\n",
      "1      Nuts, pecans     nan\n",
      "3    Teff, uncooked     nan\n",
      "4   Sherbet, orange     nan\n",
      "5  Cauliflower, raw     nan\n",
      "6  Taro leaves, raw     nan\n"
     ]
    }
   ],
   "source": [
    "print(data[['name', 'protein']].head())\n"
   ]
  },
  {
   "cell_type": "code",
   "execution_count": 29,
   "id": "c316b10d",
   "metadata": {},
   "outputs": [],
   "source": [
    "!git add .\n"
   ]
  },
  {
   "cell_type": "code",
   "execution_count": 30,
   "id": "03f38fc1",
   "metadata": {},
   "outputs": [
    {
     "name": "stdout",
     "output_type": "stream",
     "text": [
      "[main 830ce1d] add more data\n",
      " 1 file changed, 318 insertions(+), 1 deletion(-)\n"
     ]
    }
   ],
   "source": [
    "!git commit -m \"add more data\""
   ]
  },
  {
   "cell_type": "code",
   "execution_count": 32,
   "id": "4ab5baf6",
   "metadata": {},
   "outputs": [
    {
     "name": "stdout",
     "output_type": "stream",
     "text": [
      "Enumerating objects: 5, done.\n",
      "Counting objects: 100% (5/5), done.\n",
      "Delta compression using up to 8 threads\n",
      "Compressing objects: 100% (3/3), done.\n",
      "Writing objects: 100% (3/3), 118.18 KiB | 7.88 MiB/s, done.\n",
      "Total 3 (delta 0), reused 0 (delta 0), pack-reused 0\n",
      "To https://github.com/Yakshita1802/CS-661-Python-Programming-Final-Project_NutriGuide---Comprehensive-Nutrition-Finder.git\n",
      "   413c7ad..830ce1d  main -> main\n"
     ]
    }
   ],
   "source": [
    "!git push origin main\n"
   ]
  },
  {
   "cell_type": "code",
   "execution_count": 35,
   "id": "8a08d1be",
   "metadata": {},
   "outputs": [
    {
     "name": "stdout",
     "output_type": "stream",
     "text": [
      "                name  sugars\n",
      "1       Nuts, pecans  3.97 g\n",
      "3     Teff, uncooked  1.84 g\n",
      "5   Cauliflower, raw  1.91 g\n",
      "6   Taro leaves, raw  3.01 g\n",
      "7  Lamb, raw, ground  0.00 g\n"
     ]
    }
   ],
   "source": [
    "# Filtering low sugar foods (assuming 'sugars' column represents sugar content)\n",
    "low_sugar_foods = data[data['sugars'].str.replace('g', '').astype(float) < 5]\n",
    "print(low_sugar_foods[['name', 'sugars']].head())\n"
   ]
  },
  {
   "cell_type": "code",
   "execution_count": null,
   "id": "d96f7eb6",
   "metadata": {},
   "outputs": [],
   "source": []
  },
  {
   "cell_type": "code",
   "execution_count": null,
   "id": "118b8ccb",
   "metadata": {},
   "outputs": [],
   "source": []
  }
 ],
 "metadata": {
  "kernelspec": {
   "display_name": "Python 3 (ipykernel)",
   "language": "python",
   "name": "python3"
  },
  "language_info": {
   "codemirror_mode": {
    "name": "ipython",
    "version": 3
   },
   "file_extension": ".py",
   "mimetype": "text/x-python",
   "name": "python",
   "nbconvert_exporter": "python",
   "pygments_lexer": "ipython3",
   "version": "3.11.4"
  }
 },
 "nbformat": 4,
 "nbformat_minor": 5
}
